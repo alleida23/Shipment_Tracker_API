{
 "cells": [
  {
   "cell_type": "markdown",
   "id": "5bee6d7c",
   "metadata": {},
   "source": [
    "# Shipment Tracker API - POD"
   ]
  },
  {
   "cell_type": "code",
   "execution_count": null,
   "id": "6dfaddf2",
   "metadata": {
    "scrolled": true
   },
   "outputs": [],
   "source": [
    "import pandas as pd\n",
    "# Set display option to show all columns\n",
    "pd.set_option('display.max_columns', None)\n",
    "pd.set_option('display.max_colwidth', None)"
   ]
  },
  {
   "cell_type": "code",
   "execution_count": 1,
   "id": "4a33fee5",
   "metadata": {},
   "outputs": [
    {
     "data": {
      "text/markdown": [
       "**150 shipments NOT DELIVERED in your file**"
      ],
      "text/plain": [
       "<IPython.core.display.Markdown object>"
      ]
     },
     "metadata": {},
     "output_type": "display_data"
    },
    {
     "data": {
      "text/html": [
       "<div>\n",
       "<style scoped>\n",
       "    .dataframe tbody tr th:only-of-type {\n",
       "        vertical-align: middle;\n",
       "    }\n",
       "\n",
       "    .dataframe tbody tr th {\n",
       "        vertical-align: top;\n",
       "    }\n",
       "\n",
       "    .dataframe thead th {\n",
       "        text-align: right;\n",
       "    }\n",
       "</style>\n",
       "<table border=\"1\" class=\"dataframe\">\n",
       "  <thead>\n",
       "    <tr style=\"text-align: right;\">\n",
       "      <th>Status</th>\n",
       "      <th>Carrier</th>\n",
       "      <th>In Transit</th>\n",
       "      <th>Exception</th>\n",
       "      <th>Totals</th>\n",
       "    </tr>\n",
       "  </thead>\n",
       "  <tbody>\n",
       "    <tr>\n",
       "      <th>0</th>\n",
       "      <td>DHL</td>\n",
       "      <td>16</td>\n",
       "      <td>0</td>\n",
       "      <td>16</td>\n",
       "    </tr>\n",
       "    <tr>\n",
       "      <th>1</th>\n",
       "      <td>NACEX</td>\n",
       "      <td>2</td>\n",
       "      <td>1</td>\n",
       "      <td>3</td>\n",
       "    </tr>\n",
       "    <tr>\n",
       "      <th>2</th>\n",
       "      <td>SEUR</td>\n",
       "      <td>1</td>\n",
       "      <td>1</td>\n",
       "      <td>2</td>\n",
       "    </tr>\n",
       "    <tr>\n",
       "      <th>3</th>\n",
       "      <td>TNT</td>\n",
       "      <td>127</td>\n",
       "      <td>2</td>\n",
       "      <td>129</td>\n",
       "    </tr>\n",
       "  </tbody>\n",
       "</table>\n",
       "</div>"
      ],
      "text/plain": [
       "Status Carrier  In Transit  Exception  Totals\n",
       "0          DHL          16          0      16\n",
       "1        NACEX           2          1       3\n",
       "2         SEUR           1          1       2\n",
       "3          TNT         127          2     129"
      ]
     },
     "metadata": {},
     "output_type": "display_data"
    },
    {
     "name": "stdout",
     "output_type": "stream",
     "text": [
      "Successfully retrieved all TNT shipments data in attempt 1.\n",
      " \n"
     ]
    },
    {
     "data": {
      "text/markdown": [
       "New report file saved at: Track Reports/TNT - Track Report 26-12-2023 17_47_39.xlsx"
      ],
      "text/plain": [
       "<IPython.core.display.Markdown object>"
      ]
     },
     "metadata": {},
     "output_type": "display_data"
    },
    {
     "name": "stdout",
     "output_type": "stream",
     "text": [
      "Proceeding to scrape Proof of Delivery URLs...\n",
      "Generating batched URLs for shipments marked as 'Delivered' by TNT Express...\n",
      "Scraping data from TNT Express website...\n",
      "--> Elapsed time scraping TNT data: 132.06 seconds\n",
      "Looking for shipments with available Proof of Delivery on the TNT website...\n",
      "109 shipments have available Proof of Delivery (POD). Initializing extraction...\n"
     ]
    },
    {
     "ename": "TimeoutException",
     "evalue": "Message: \nStacktrace:\n0   chromedriver                        0x0000000102dee004 chromedriver + 4169732\n1   chromedriver                        0x0000000102de5ff8 chromedriver + 4136952\n2   chromedriver                        0x0000000102a3b500 chromedriver + 292096\n3   chromedriver                        0x0000000102a807a0 chromedriver + 575392\n4   chromedriver                        0x0000000102abb818 chromedriver + 817176\n5   chromedriver                        0x0000000102a745e8 chromedriver + 525800\n6   chromedriver                        0x0000000102a754b8 chromedriver + 529592\n7   chromedriver                        0x0000000102db4334 chromedriver + 3932980\n8   chromedriver                        0x0000000102db8970 chromedriver + 3950960\n9   chromedriver                        0x0000000102d9c774 chromedriver + 3835764\n10  chromedriver                        0x0000000102db9478 chromedriver + 3953784\n11  chromedriver                        0x0000000102d8eab4 chromedriver + 3779252\n12  chromedriver                        0x0000000102dd5914 chromedriver + 4069652\n13  chromedriver                        0x0000000102dd5a90 chromedriver + 4070032\n14  chromedriver                        0x0000000102de5c70 chromedriver + 4136048\n15  libsystem_pthread.dylib             0x000000018e1c1034 _pthread_start + 136\n16  libsystem_pthread.dylib             0x000000018e1bbe3c thread_start + 8\n",
     "output_type": "error",
     "traceback": [
      "\u001b[0;31m---------------------------------------------------------------------------\u001b[0m",
      "\u001b[0;31mTimeoutException\u001b[0m                          Traceback (most recent call last)",
      "\u001b[0;32m/var/folders/w7/7cfd14hn02g0d126w5q47rqw0000gn/T/ipykernel_3903/3751353751.py\u001b[0m in \u001b[0;36m<module>\u001b[0;34m\u001b[0m\n\u001b[1;32m     12\u001b[0m \u001b[0;34m\u001b[0m\u001b[0m\n\u001b[1;32m     13\u001b[0m \u001b[0;32mfrom\u001b[0m \u001b[0mfunctions3_TNT_scraping\u001b[0m \u001b[0;32mimport\u001b[0m \u001b[0mtnt_pods_dataframe\u001b[0m\u001b[0;34m\u001b[0m\u001b[0;34m\u001b[0m\u001b[0m\n\u001b[0;32m---> 14\u001b[0;31m \u001b[0mtnt_pods_df\u001b[0m \u001b[0;34m=\u001b[0m \u001b[0mtnt_pods_dataframe\u001b[0m\u001b[0;34m(\u001b[0m\u001b[0mtnt_df\u001b[0m\u001b[0;34m,\u001b[0m \u001b[0mchromedriver_path\u001b[0m\u001b[0;34m,\u001b[0m \u001b[0mreport_path\u001b[0m\u001b[0;34m)\u001b[0m\u001b[0;34m\u001b[0m\u001b[0;34m\u001b[0m\u001b[0m\n\u001b[0m\u001b[1;32m     15\u001b[0m \u001b[0;34m\u001b[0m\u001b[0m\n\u001b[1;32m     16\u001b[0m \u001b[0;32mfrom\u001b[0m \u001b[0mfunctions1_DHL_requests\u001b[0m \u001b[0;32mimport\u001b[0m \u001b[0mmake_dhl_requests\u001b[0m\u001b[0;34m\u001b[0m\u001b[0;34m\u001b[0m\u001b[0m\n",
      "\u001b[0;32m~/Projects/Shipment_Tracker_API/functions3_TNT_scraping.py\u001b[0m in \u001b[0;36mtnt_pods_dataframe\u001b[0;34m(df, chromedriver_path, report_path)\u001b[0m\n\u001b[1;32m    316\u001b[0m \u001b[0;34m\u001b[0m\u001b[0m\n\u001b[1;32m    317\u001b[0m     \u001b[0;31m# Scrap again one by one and retrieve POD links\u001b[0m\u001b[0;34m\u001b[0m\u001b[0;34m\u001b[0m\u001b[0m\n\u001b[0;32m--> 318\u001b[0;31m     \u001b[0mpods_df\u001b[0m \u001b[0;34m=\u001b[0m \u001b[0mtnt_pod_scraping\u001b[0m\u001b[0;34m(\u001b[0m\u001b[0mpods_avail\u001b[0m\u001b[0;34m,\u001b[0m \u001b[0mchromedriver_path\u001b[0m\u001b[0;34m)\u001b[0m\u001b[0;34m\u001b[0m\u001b[0;34m\u001b[0m\u001b[0m\n\u001b[0m\u001b[1;32m    319\u001b[0m \u001b[0;34m\u001b[0m\u001b[0m\n\u001b[1;32m    320\u001b[0m     \u001b[0;31m# Merge the dataframes on the 'Shipment Number' column\u001b[0m\u001b[0;34m\u001b[0m\u001b[0;34m\u001b[0m\u001b[0m\n",
      "\u001b[0;32m~/Projects/Shipment_Tracker_API/functions3_TNT_scraping.py\u001b[0m in \u001b[0;36mtnt_pod_scraping\u001b[0;34m(df, chromedriver_path)\u001b[0m\n\u001b[1;32m    244\u001b[0m         \u001b[0;31m# Click the \"Check answer\" button using JavaScript\u001b[0m\u001b[0;34m\u001b[0m\u001b[0;34m\u001b[0m\u001b[0m\n\u001b[1;32m    245\u001b[0m         \u001b[0mcheck_button_locator\u001b[0m \u001b[0;34m=\u001b[0m \u001b[0;34m(\u001b[0m\u001b[0mBy\u001b[0m\u001b[0;34m.\u001b[0m\u001b[0mCSS_SELECTOR\u001b[0m\u001b[0;34m,\u001b[0m \u001b[0;34m'body > div.contentPageFullWidth.newBase.page.basicpage > div > div > pb-root > div > div > tnt-modal:nth-child(5) > div > div.__c-modal__body.__c-modal__body--lightbox.__c-modal__body--with-title > form > button.__c-btn.__u-mr--xl.__u-mb--m'\u001b[0m\u001b[0;34m)\u001b[0m\u001b[0;34m\u001b[0m\u001b[0;34m\u001b[0m\u001b[0m\n\u001b[0;32m--> 246\u001b[0;31m         \u001b[0mcheck_button\u001b[0m \u001b[0;34m=\u001b[0m \u001b[0mWebDriverWait\u001b[0m\u001b[0;34m(\u001b[0m\u001b[0mdriver\u001b[0m\u001b[0;34m,\u001b[0m \u001b[0;36m10\u001b[0m\u001b[0;34m)\u001b[0m\u001b[0;34m.\u001b[0m\u001b[0muntil\u001b[0m\u001b[0;34m(\u001b[0m\u001b[0mEC\u001b[0m\u001b[0;34m.\u001b[0m\u001b[0mpresence_of_element_located\u001b[0m\u001b[0;34m(\u001b[0m\u001b[0mcheck_button_locator\u001b[0m\u001b[0;34m)\u001b[0m\u001b[0;34m)\u001b[0m\u001b[0;34m\u001b[0m\u001b[0;34m\u001b[0m\u001b[0m\n\u001b[0m\u001b[1;32m    247\u001b[0m         \u001b[0mdriver\u001b[0m\u001b[0;34m.\u001b[0m\u001b[0mexecute_script\u001b[0m\u001b[0;34m(\u001b[0m\u001b[0;34m\"arguments[0].click();\"\u001b[0m\u001b[0;34m,\u001b[0m \u001b[0mcheck_button\u001b[0m\u001b[0;34m)\u001b[0m\u001b[0;34m\u001b[0m\u001b[0;34m\u001b[0m\u001b[0m\n\u001b[1;32m    248\u001b[0m \u001b[0;34m\u001b[0m\u001b[0m\n",
      "\u001b[0;32m~/opt/anaconda3/lib/python3.9/site-packages/selenium/webdriver/support/wait.py\u001b[0m in \u001b[0;36muntil\u001b[0;34m(self, method, message)\u001b[0m\n\u001b[1;32m     99\u001b[0m             \u001b[0;32mif\u001b[0m \u001b[0mtime\u001b[0m\u001b[0;34m.\u001b[0m\u001b[0mmonotonic\u001b[0m\u001b[0;34m(\u001b[0m\u001b[0;34m)\u001b[0m \u001b[0;34m>\u001b[0m \u001b[0mend_time\u001b[0m\u001b[0;34m:\u001b[0m\u001b[0;34m\u001b[0m\u001b[0;34m\u001b[0m\u001b[0m\n\u001b[1;32m    100\u001b[0m                 \u001b[0;32mbreak\u001b[0m\u001b[0;34m\u001b[0m\u001b[0;34m\u001b[0m\u001b[0m\n\u001b[0;32m--> 101\u001b[0;31m         \u001b[0;32mraise\u001b[0m \u001b[0mTimeoutException\u001b[0m\u001b[0;34m(\u001b[0m\u001b[0mmessage\u001b[0m\u001b[0;34m,\u001b[0m \u001b[0mscreen\u001b[0m\u001b[0;34m,\u001b[0m \u001b[0mstacktrace\u001b[0m\u001b[0;34m)\u001b[0m\u001b[0;34m\u001b[0m\u001b[0;34m\u001b[0m\u001b[0m\n\u001b[0m\u001b[1;32m    102\u001b[0m \u001b[0;34m\u001b[0m\u001b[0m\n\u001b[1;32m    103\u001b[0m     \u001b[0;32mdef\u001b[0m \u001b[0muntil_not\u001b[0m\u001b[0;34m(\u001b[0m\u001b[0mself\u001b[0m\u001b[0;34m,\u001b[0m \u001b[0mmethod\u001b[0m\u001b[0;34m:\u001b[0m \u001b[0mCallable\u001b[0m\u001b[0;34m[\u001b[0m\u001b[0;34m[\u001b[0m\u001b[0mWebDriver\u001b[0m\u001b[0;34m]\u001b[0m\u001b[0;34m,\u001b[0m \u001b[0mT\u001b[0m\u001b[0;34m]\u001b[0m\u001b[0;34m,\u001b[0m \u001b[0mmessage\u001b[0m\u001b[0;34m:\u001b[0m \u001b[0mstr\u001b[0m \u001b[0;34m=\u001b[0m \u001b[0;34m\"\"\u001b[0m\u001b[0;34m)\u001b[0m \u001b[0;34m->\u001b[0m \u001b[0mUnion\u001b[0m\u001b[0;34m[\u001b[0m\u001b[0mT\u001b[0m\u001b[0;34m,\u001b[0m \u001b[0mLiteral\u001b[0m\u001b[0;34m[\u001b[0m\u001b[0;32mTrue\u001b[0m\u001b[0;34m]\u001b[0m\u001b[0;34m]\u001b[0m\u001b[0;34m:\u001b[0m\u001b[0;34m\u001b[0m\u001b[0;34m\u001b[0m\u001b[0m\n",
      "\u001b[0;31mTimeoutException\u001b[0m: Message: \nStacktrace:\n0   chromedriver                        0x0000000102dee004 chromedriver + 4169732\n1   chromedriver                        0x0000000102de5ff8 chromedriver + 4136952\n2   chromedriver                        0x0000000102a3b500 chromedriver + 292096\n3   chromedriver                        0x0000000102a807a0 chromedriver + 575392\n4   chromedriver                        0x0000000102abb818 chromedriver + 817176\n5   chromedriver                        0x0000000102a745e8 chromedriver + 525800\n6   chromedriver                        0x0000000102a754b8 chromedriver + 529592\n7   chromedriver                        0x0000000102db4334 chromedriver + 3932980\n8   chromedriver                        0x0000000102db8970 chromedriver + 3950960\n9   chromedriver                        0x0000000102d9c774 chromedriver + 3835764\n10  chromedriver                        0x0000000102db9478 chromedriver + 3953784\n11  chromedriver                        0x0000000102d8eab4 chromedriver + 3779252\n12  chromedriver                        0x0000000102dd5914 chromedriver + 4069652\n13  chromedriver                        0x0000000102dd5a90 chromedriver + 4070032\n14  chromedriver                        0x0000000102de5c70 chromedriver + 4136048\n15  libsystem_pthread.dylib             0x000000018e1c1034 _pthread_start + 136\n16  libsystem_pthread.dylib             0x000000018e1bbe3c thread_start + 8\n"
     ]
    }
   ],
   "source": [
    "from functions0_basics import get_files_path, shipments_not_delivered, get_API_details\n",
    "# Added chromedriver if needed\n",
    "excel_path, report_path, chromedriver_path = get_files_path(\"Albert\")\n",
    "shipments_not_delivered = shipments_not_delivered(excel_path)\n",
    "\n",
    "from functions1_TNT_requests import make_tnt_requests\n",
    "tnt_results, len_shipm_numbers = make_tnt_requests(shipments_not_delivered)\n",
    "\n",
    "from functions2_TNT_dataframe import tnt_to_dataframe\n",
    "tnt_df = tnt_to_dataframe(tnt_results, shipments_not_delivered, len_shipm_numbers, report_path)\n",
    "#display(tnt_df.head(3), tnt_df.tail(3))\n",
    "\n",
    "from functions3_TNT_scraping import tnt_pods_dataframe\n",
    "tnt_pods_df = tnt_pods_dataframe(tnt_df, chromedriver_path, report_path)\n",
    "\n",
    "from functions1_DHL_requests import make_dhl_requests\n",
    "all_dhl_results, max_dhl_shipm = make_dhl_requests(shipments_not_delivered)\n",
    "\n",
    "from functions2_DHL_dataframe import dhl_to_dataframe\n",
    "dhl_df = dhl_to_dataframe(all_dhl_results, shipments_not_delivered, max_dhl_shipm, report_path)\n",
    "#dhl_df"
   ]
  },
  {
   "cell_type": "code",
   "execution_count": null,
   "id": "338ba83e",
   "metadata": {},
   "outputs": [],
   "source": []
  },
  {
   "cell_type": "code",
   "execution_count": null,
   "id": "212e5860",
   "metadata": {},
   "outputs": [],
   "source": []
  },
  {
   "cell_type": "code",
   "execution_count": null,
   "id": "b095ca52",
   "metadata": {},
   "outputs": [],
   "source": []
  },
  {
   "cell_type": "code",
   "execution_count": null,
   "id": "36c9ec91",
   "metadata": {},
   "outputs": [],
   "source": []
  },
  {
   "cell_type": "code",
   "execution_count": null,
   "id": "57c75747",
   "metadata": {
    "scrolled": false
   },
   "outputs": [],
   "source": []
  },
  {
   "cell_type": "code",
   "execution_count": null,
   "id": "f4314007",
   "metadata": {},
   "outputs": [],
   "source": []
  }
 ],
 "metadata": {
  "kernelspec": {
   "display_name": "Python 3 (ipykernel)",
   "language": "python",
   "name": "python3"
  },
  "language_info": {
   "codemirror_mode": {
    "name": "ipython",
    "version": 3
   },
   "file_extension": ".py",
   "mimetype": "text/x-python",
   "name": "python",
   "nbconvert_exporter": "python",
   "pygments_lexer": "ipython3",
   "version": "3.9.13"
  }
 },
 "nbformat": 4,
 "nbformat_minor": 5
}
