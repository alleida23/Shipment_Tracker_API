{
 "cells": [
  {
   "cell_type": "markdown",
   "id": "5bee6d7c",
   "metadata": {},
   "source": [
    "# Shipment Tracker API - POD"
   ]
  },
  {
   "cell_type": "code",
   "execution_count": 1,
   "id": "6dfaddf2",
   "metadata": {
    "scrolled": true
   },
   "outputs": [],
   "source": [
    "import pandas as pd\n",
    "# Set display option to show all columns\n",
    "pd.set_option('display.max_columns', None)\n",
    "pd.set_option('display.max_colwidth', None)"
   ]
  },
  {
   "cell_type": "code",
   "execution_count": 2,
   "id": "ee77d0e7",
   "metadata": {},
   "outputs": [
    {
     "data": {
      "text/markdown": [
       "**150 shipments NOT DELIVERED in your file**"
      ],
      "text/plain": [
       "<IPython.core.display.Markdown object>"
      ]
     },
     "metadata": {},
     "output_type": "display_data"
    },
    {
     "data": {
      "text/html": [
       "<div>\n",
       "<style scoped>\n",
       "    .dataframe tbody tr th:only-of-type {\n",
       "        vertical-align: middle;\n",
       "    }\n",
       "\n",
       "    .dataframe tbody tr th {\n",
       "        vertical-align: top;\n",
       "    }\n",
       "\n",
       "    .dataframe thead th {\n",
       "        text-align: right;\n",
       "    }\n",
       "</style>\n",
       "<table border=\"1\" class=\"dataframe\">\n",
       "  <thead>\n",
       "    <tr style=\"text-align: right;\">\n",
       "      <th>Status</th>\n",
       "      <th>Carrier</th>\n",
       "      <th>In Transit</th>\n",
       "      <th>Exception</th>\n",
       "      <th>Totals</th>\n",
       "    </tr>\n",
       "  </thead>\n",
       "  <tbody>\n",
       "    <tr>\n",
       "      <th>0</th>\n",
       "      <td>DHL</td>\n",
       "      <td>16</td>\n",
       "      <td>0</td>\n",
       "      <td>16</td>\n",
       "    </tr>\n",
       "    <tr>\n",
       "      <th>1</th>\n",
       "      <td>NACEX</td>\n",
       "      <td>2</td>\n",
       "      <td>1</td>\n",
       "      <td>3</td>\n",
       "    </tr>\n",
       "    <tr>\n",
       "      <th>2</th>\n",
       "      <td>SEUR</td>\n",
       "      <td>1</td>\n",
       "      <td>1</td>\n",
       "      <td>2</td>\n",
       "    </tr>\n",
       "    <tr>\n",
       "      <th>3</th>\n",
       "      <td>TNT</td>\n",
       "      <td>127</td>\n",
       "      <td>2</td>\n",
       "      <td>129</td>\n",
       "    </tr>\n",
       "  </tbody>\n",
       "</table>\n",
       "</div>"
      ],
      "text/plain": [
       "Status Carrier  In Transit  Exception  Totals\n",
       "0          DHL          16          0      16\n",
       "1        NACEX           2          1       3\n",
       "2         SEUR           1          1       2\n",
       "3          TNT         127          2     129"
      ]
     },
     "metadata": {},
     "output_type": "display_data"
    }
   ],
   "source": [
    "from functions0_basics import get_files_path, shipments_not_delivered, get_API_details\n",
    "# Added chromedriver if needed\n",
    "excel_path, report_path, chromedriver_path = get_files_path(\"Albert\")\n",
    "shipments_not_delivered = shipments_not_delivered(excel_path)"
   ]
  },
  {
   "cell_type": "code",
   "execution_count": 3,
   "id": "75f89062",
   "metadata": {},
   "outputs": [
    {
     "data": {
      "text/plain": [
       "'./ChromeDriver/chromedriver-mac-arm64/chromedriver'"
      ]
     },
     "execution_count": 3,
     "metadata": {},
     "output_type": "execute_result"
    }
   ],
   "source": [
    "chromedriver_path"
   ]
  },
  {
   "cell_type": "code",
   "execution_count": 4,
   "id": "77da9c60",
   "metadata": {},
   "outputs": [
    {
     "name": "stdout",
     "output_type": "stream",
     "text": [
      " \n"
     ]
    },
    {
     "data": {
      "text/markdown": [
       "New report file saved at: Track Reports/TNT - Track Report 18-12-2023 12_10_37.xlsx"
      ],
      "text/plain": [
       "<IPython.core.display.Markdown object>"
      ]
     },
     "metadata": {},
     "output_type": "display_data"
    }
   ],
   "source": [
    "from functions1_TNT_requests import make_tnt_requests\n",
    "tnt_results, len_shipm_numbers = make_tnt_requests(shipments_not_delivered)\n",
    "\n",
    "from functions2_TNT_dataframe import tnt_to_dataframe\n",
    "tnt_df = tnt_to_dataframe(tnt_results, len_shipm_numbers, report_path)\n",
    "#display(tnt_df.head(3), tnt_df.tail(3))"
   ]
  },
  {
   "cell_type": "code",
   "execution_count": 5,
   "id": "9266fbf7",
   "metadata": {},
   "outputs": [
    {
     "name": "stdout",
     "output_type": "stream",
     "text": [
      "Generating batched URLs for shipments marked as 'Delivered' by TNT Express...\n",
      "Scraping data from TNT Express website...\n",
      "--> Elapsed time scraping TNT data: 108.56 seconds\n",
      "Looking for shipments with available Proof of Delivery on the TNT website...\n",
      "12 shipments have available PODs. Proceeding to retrieve them...\n",
      "--> Elapsed time retrieving TNT PODs URLs: 384.02 seconds\n"
     ]
    }
   ],
   "source": [
    "from functions3_TNT_scraping import tnt_pods_dataframe\n",
    "tnt_pods_df = tnt_pods_dataframe(tnt_df, chromedriver_path)"
   ]
  },
  {
   "cell_type": "code",
   "execution_count": 9,
   "id": "77d5c7a7",
   "metadata": {},
   "outputs": [
    {
     "data": {
      "text/html": [
       "<div>\n",
       "<style scoped>\n",
       "    .dataframe tbody tr th:only-of-type {\n",
       "        vertical-align: middle;\n",
       "    }\n",
       "\n",
       "    .dataframe tbody tr th {\n",
       "        vertical-align: top;\n",
       "    }\n",
       "\n",
       "    .dataframe thead th {\n",
       "        text-align: right;\n",
       "    }\n",
       "</style>\n",
       "<table border=\"1\" class=\"dataframe\">\n",
       "  <thead>\n",
       "    <tr style=\"text-align: right;\">\n",
       "      <th></th>\n",
       "      <th>Carrier</th>\n",
       "      <th>Client Reference</th>\n",
       "      <th>Shipment Num.</th>\n",
       "      <th>Origin Date</th>\n",
       "      <th>From (City)</th>\n",
       "      <th>From (Country)</th>\n",
       "      <th>To (City)</th>\n",
       "      <th>To (Country)</th>\n",
       "      <th>Num. of Pieces</th>\n",
       "      <th>Processing Days</th>\n",
       "      <th>Summary Code</th>\n",
       "      <th>Signatory</th>\n",
       "      <th>Carrier Code Status</th>\n",
       "      <th>Last Update (Date)</th>\n",
       "      <th>Last Update (Hour)</th>\n",
       "      <th>Last Location</th>\n",
       "      <th>Last Action</th>\n",
       "      <th>Exception Notification</th>\n",
       "      <th>URL</th>\n",
       "      <th>POD URL</th>\n",
       "    </tr>\n",
       "  </thead>\n",
       "  <tbody>\n",
       "    <tr>\n",
       "      <th>0</th>\n",
       "      <td>TNT</td>\n",
       "      <td>DSD/140232</td>\n",
       "      <td>663782937</td>\n",
       "      <td>24-11-2023</td>\n",
       "      <td>Barcelona</td>\n",
       "      <td>Spain</td>\n",
       "      <td>Krnjesevci</td>\n",
       "      <td>Serbia</td>\n",
       "      <td>1</td>\n",
       "      <td>24</td>\n",
       "      <td>In Transit</td>\n",
       "      <td></td>\n",
       "      <td>HW</td>\n",
       "      <td>24-11-2023</td>\n",
       "      <td>21:51</td>\n",
       "      <td>Barcelona</td>\n",
       "      <td>El envío ha llegado a la ubicación de TNT</td>\n",
       "      <td></td>\n",
       "      <td>https://www.tnt.com/express/en_gc/site/shipping-tools/track.html?searchType=con&amp;cons=663782937</td>\n",
       "      <td></td>\n",
       "    </tr>\n",
       "    <tr>\n",
       "      <th>1</th>\n",
       "      <td>TNT</td>\n",
       "      <td>DSD/142142</td>\n",
       "      <td>663787660</td>\n",
       "      <td>28-11-2023</td>\n",
       "      <td>Barcelona</td>\n",
       "      <td>Spain</td>\n",
       "      <td>Shkoder</td>\n",
       "      <td>Albania</td>\n",
       "      <td>1</td>\n",
       "      <td>17</td>\n",
       "      <td>Delivered</td>\n",
       "      <td>L HABIBI</td>\n",
       "      <td>OK</td>\n",
       "      <td>15-12-2023</td>\n",
       "      <td>16:30</td>\n",
       "      <td>Albania Others</td>\n",
       "      <td>Envío entregado en buen estado</td>\n",
       "      <td></td>\n",
       "      <td>https://www.tnt.com/express/en_gc/site/shipping-tools/track.html?searchType=con&amp;cons=663787660</td>\n",
       "      <td></td>\n",
       "    </tr>\n",
       "    <tr>\n",
       "      <th>2</th>\n",
       "      <td>TNT</td>\n",
       "      <td>DSD/146902</td>\n",
       "      <td>663806545</td>\n",
       "      <td>07-12-2023</td>\n",
       "      <td>Barcelona</td>\n",
       "      <td>Spain</td>\n",
       "      <td>Lipari</td>\n",
       "      <td>Italy</td>\n",
       "      <td>1</td>\n",
       "      <td>11</td>\n",
       "      <td>In Transit</td>\n",
       "      <td></td>\n",
       "      <td>NPD</td>\n",
       "      <td>13-12-2023</td>\n",
       "      <td>14:57</td>\n",
       "      <td>Messina</td>\n",
       "      <td>El destinatario ha solicitado una notificación de 24 horas antes de la entrega o ha acordado una entrega durante el siguiente día laborable.</td>\n",
       "      <td></td>\n",
       "      <td>https://www.tnt.com/express/en_gc/site/shipping-tools/track.html?searchType=con&amp;cons=663806545</td>\n",
       "      <td></td>\n",
       "    </tr>\n",
       "    <tr>\n",
       "      <th>3</th>\n",
       "      <td>TNT</td>\n",
       "      <td>DSD/146772</td>\n",
       "      <td>663805920</td>\n",
       "      <td>07-12-2023</td>\n",
       "      <td>Barcelona</td>\n",
       "      <td>Spain</td>\n",
       "      <td>Legnago</td>\n",
       "      <td>Italy</td>\n",
       "      <td>2</td>\n",
       "      <td>7</td>\n",
       "      <td>Delivered</td>\n",
       "      <td>Bisco</td>\n",
       "      <td>OK</td>\n",
       "      <td>14-12-2023</td>\n",
       "      <td>15:11</td>\n",
       "      <td>Verona</td>\n",
       "      <td>Envío entregado en buen estado</td>\n",
       "      <td></td>\n",
       "      <td>https://www.tnt.com/express/en_gc/site/shipping-tools/track.html?searchType=con&amp;cons=663805920</td>\n",
       "      <td>https://track-shipments-mytnt2.apps.tnt.com/api/v3/shipments/documents?hash=RC0W8jOMo8VCVNScIZaWCB25io8WABVOAjE9e0Hsy7a_JHobn7GjYkwv4dfveF9d</td>\n",
       "    </tr>\n",
       "  </tbody>\n",
       "</table>\n",
       "</div>"
      ],
      "text/plain": [
       "  Carrier Client Reference Shipment Num. Origin Date From (City)  \\\n",
       "0     TNT       DSD/140232     663782937  24-11-2023   Barcelona   \n",
       "1     TNT       DSD/142142     663787660  28-11-2023   Barcelona   \n",
       "2     TNT       DSD/146902     663806545  07-12-2023   Barcelona   \n",
       "3     TNT       DSD/146772     663805920  07-12-2023   Barcelona   \n",
       "\n",
       "  From (Country)   To (City) To (Country) Num. of Pieces  Processing Days  \\\n",
       "0          Spain  Krnjesevci       Serbia              1               24   \n",
       "1          Spain     Shkoder      Albania              1               17   \n",
       "2          Spain      Lipari        Italy              1               11   \n",
       "3          Spain     Legnago        Italy              2                7   \n",
       "\n",
       "  Summary Code Signatory Carrier Code Status Last Update (Date)  \\\n",
       "0   In Transit                            HW         24-11-2023   \n",
       "1    Delivered  L HABIBI                  OK         15-12-2023   \n",
       "2   In Transit                           NPD         13-12-2023   \n",
       "3    Delivered     Bisco                  OK         14-12-2023   \n",
       "\n",
       "  Last Update (Hour)   Last Location  \\\n",
       "0              21:51       Barcelona   \n",
       "1              16:30  Albania Others   \n",
       "2              14:57         Messina   \n",
       "3              15:11          Verona   \n",
       "\n",
       "                                                                                                                                    Last Action  \\\n",
       "0                                                                                                     El envío ha llegado a la ubicación de TNT   \n",
       "1                                                                                                                Envío entregado en buen estado   \n",
       "2  El destinatario ha solicitado una notificación de 24 horas antes de la entrega o ha acordado una entrega durante el siguiente día laborable.   \n",
       "3                                                                                                                Envío entregado en buen estado   \n",
       "\n",
       "  Exception Notification  \\\n",
       "0                          \n",
       "1                          \n",
       "2                          \n",
       "3                          \n",
       "\n",
       "                                                                                              URL  \\\n",
       "0  https://www.tnt.com/express/en_gc/site/shipping-tools/track.html?searchType=con&cons=663782937   \n",
       "1  https://www.tnt.com/express/en_gc/site/shipping-tools/track.html?searchType=con&cons=663787660   \n",
       "2  https://www.tnt.com/express/en_gc/site/shipping-tools/track.html?searchType=con&cons=663806545   \n",
       "3  https://www.tnt.com/express/en_gc/site/shipping-tools/track.html?searchType=con&cons=663805920   \n",
       "\n",
       "                                                                                                                                        POD URL  \n",
       "0                                                                                                                                                \n",
       "1                                                                                                                                                \n",
       "2                                                                                                                                                \n",
       "3  https://track-shipments-mytnt2.apps.tnt.com/api/v3/shipments/documents?hash=RC0W8jOMo8VCVNScIZaWCB25io8WABVOAjE9e0Hsy7a_JHobn7GjYkwv4dfveF9d  "
      ]
     },
     "execution_count": 9,
     "metadata": {},
     "output_type": "execute_result"
    }
   ],
   "source": [
    "tnt_pods_df.head(4)"
   ]
  },
  {
   "cell_type": "code",
   "execution_count": null,
   "id": "5bd97bd3",
   "metadata": {},
   "outputs": [],
   "source": []
  },
  {
   "cell_type": "code",
   "execution_count": null,
   "id": "fe1489b8",
   "metadata": {},
   "outputs": [],
   "source": []
  },
  {
   "cell_type": "code",
   "execution_count": null,
   "id": "57c75747",
   "metadata": {
    "scrolled": false
   },
   "outputs": [],
   "source": [
    "from functions1_DHL_requests import make_dhl_requests\n",
    "all_dhl_results, max_dhl_shipm = make_dhl_requests(shipments_not_delivered)\n",
    "\n",
    "from functions2_DHL_dataframe import dhl_to_dataframe\n",
    "dhl_df = dhl_to_dataframe(all_dhl_results, shipments_not_delivered, max_dhl_shipm, report_path)\n",
    "#dhl_df"
   ]
  },
  {
   "cell_type": "code",
   "execution_count": null,
   "id": "f4314007",
   "metadata": {},
   "outputs": [],
   "source": []
  }
 ],
 "metadata": {
  "kernelspec": {
   "display_name": "Python 3 (ipykernel)",
   "language": "python",
   "name": "python3"
  },
  "language_info": {
   "codemirror_mode": {
    "name": "ipython",
    "version": 3
   },
   "file_extension": ".py",
   "mimetype": "text/x-python",
   "name": "python",
   "nbconvert_exporter": "python",
   "pygments_lexer": "ipython3",
   "version": "3.9.13"
  }
 },
 "nbformat": 4,
 "nbformat_minor": 5
}
