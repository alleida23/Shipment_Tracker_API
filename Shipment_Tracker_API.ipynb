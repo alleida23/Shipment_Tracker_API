{
 "cells": [
  {
   "cell_type": "markdown",
   "id": "5bee6d7c",
   "metadata": {},
   "source": [
    "# Shipment Tracker API"
   ]
  },
  {
   "cell_type": "code",
   "execution_count": 1,
   "id": "6dfaddf2",
   "metadata": {
    "scrolled": true
   },
   "outputs": [],
   "source": [
    "import pandas as pd\n",
    "\n",
    "# Set display option to show all columns and max column width\n",
    "pd.set_option('display.max_columns', None)\n",
    "pd.set_option('display.max_colwidth', None)"
   ]
  },
  {
   "cell_type": "markdown",
   "id": "8be5bbe7",
   "metadata": {},
   "source": [
    "### File Paths and Backup"
   ]
  },
  {
   "cell_type": "code",
   "execution_count": 2,
   "id": "dbfc6e2c",
   "metadata": {},
   "outputs": [
    {
     "name": "stdout",
     "output_type": "stream",
     "text": [
      "Backup saved to: ./Shipment Data/BackUp - Daily Report Shipments of Spare Parts.xlsx 27-12-2023 11_59_48.xlsx\n",
      "Deleted old backup: ./Shipment Data/BackUp - Daily Report Shipments of Spare Parts.xlsx 26-12-2023 20_57_47.xlsx\n"
     ]
    }
   ],
   "source": [
    "from functions0_basics import (get_files_path,\n",
    "                               save_backup,\n",
    "                               shipments_not_delivered,\n",
    "                               get_API_details, save_to_excel, convert_urls_to_links)\n",
    "\n",
    "# Get files paths and store them into variables (chromedriver if needed)\n",
    "excel_path, report_path, chromedriver_path = get_files_path(\"Albert\")\n",
    "\n",
    "# Create a backup of original Excel file \n",
    "save_backup(excel_path)"
   ]
  },
  {
   "cell_type": "code",
   "execution_count": 3,
   "id": "d397aba5",
   "metadata": {},
   "outputs": [
    {
     "data": {
      "text/markdown": [
       "**150 shipments NOT DELIVERED in your file**"
      ],
      "text/plain": [
       "<IPython.core.display.Markdown object>"
      ]
     },
     "metadata": {},
     "output_type": "display_data"
    },
    {
     "data": {
      "text/html": [
       "<div>\n",
       "<style scoped>\n",
       "    .dataframe tbody tr th:only-of-type {\n",
       "        vertical-align: middle;\n",
       "    }\n",
       "\n",
       "    .dataframe tbody tr th {\n",
       "        vertical-align: top;\n",
       "    }\n",
       "\n",
       "    .dataframe thead th {\n",
       "        text-align: right;\n",
       "    }\n",
       "</style>\n",
       "<table border=\"1\" class=\"dataframe\">\n",
       "  <thead>\n",
       "    <tr style=\"text-align: right;\">\n",
       "      <th>Status</th>\n",
       "      <th>Carrier</th>\n",
       "      <th>In Transit</th>\n",
       "      <th>Exception</th>\n",
       "      <th>Totals</th>\n",
       "    </tr>\n",
       "  </thead>\n",
       "  <tbody>\n",
       "    <tr>\n",
       "      <th>0</th>\n",
       "      <td>DHL</td>\n",
       "      <td>16</td>\n",
       "      <td>0</td>\n",
       "      <td>16</td>\n",
       "    </tr>\n",
       "    <tr>\n",
       "      <th>1</th>\n",
       "      <td>NACEX</td>\n",
       "      <td>2</td>\n",
       "      <td>1</td>\n",
       "      <td>3</td>\n",
       "    </tr>\n",
       "    <tr>\n",
       "      <th>2</th>\n",
       "      <td>SEUR</td>\n",
       "      <td>1</td>\n",
       "      <td>1</td>\n",
       "      <td>2</td>\n",
       "    </tr>\n",
       "    <tr>\n",
       "      <th>3</th>\n",
       "      <td>TNT</td>\n",
       "      <td>127</td>\n",
       "      <td>2</td>\n",
       "      <td>129</td>\n",
       "    </tr>\n",
       "  </tbody>\n",
       "</table>\n",
       "</div>"
      ],
      "text/plain": [
       "Status Carrier  In Transit  Exception  Totals\n",
       "0          DHL          16          0      16\n",
       "1        NACEX           2          1       3\n",
       "2         SEUR           1          1       2\n",
       "3          TNT         127          2     129"
      ]
     },
     "metadata": {},
     "output_type": "display_data"
    }
   ],
   "source": [
    "# Get data for all carriers != 'Delivered'\n",
    "shipments_not_delivered = shipments_not_delivered(excel_path)"
   ]
  },
  {
   "cell_type": "markdown",
   "id": "5076f347",
   "metadata": {},
   "source": [
    "### TNT"
   ]
  },
  {
   "cell_type": "code",
   "execution_count": 4,
   "id": "623ac779",
   "metadata": {},
   "outputs": [],
   "source": [
    "# TNT: API Requests\n",
    "from functions1_TNT_requests import make_tnt_requests\n",
    "tnt_results, len_shipm_numbers = make_tnt_requests(shipments_not_delivered)"
   ]
  },
  {
   "cell_type": "code",
   "execution_count": 5,
   "id": "d7f9a6a2",
   "metadata": {},
   "outputs": [
    {
     "name": "stdout",
     "output_type": "stream",
     "text": [
      "Successfully retrieved all TNT shipments data in attempt 1.\n",
      " \n"
     ]
    },
    {
     "data": {
      "text/markdown": [
       "New report file saved at: Track Reports/TNT - Track Report 27-12-2023 11_59_53.xlsx"
      ],
      "text/plain": [
       "<IPython.core.display.Markdown object>"
      ]
     },
     "metadata": {},
     "output_type": "display_data"
    }
   ],
   "source": [
    "# TNT: Extract, process and create dataframe\n",
    "from functions2_TNT_dataframe import tnt_to_dataframe\n",
    "tnt_df = tnt_to_dataframe(tnt_results, shipments_not_delivered, len_shipm_numbers, report_path)\n",
    "# Saved df:\n",
    "#tnt_df\n",
    "\n",
    "# Linkable df:\n",
    "# tnt_df_linkable = convert_urls_to_links(tnt_df)"
   ]
  },
  {
   "cell_type": "markdown",
   "id": "4b138a19",
   "metadata": {},
   "source": [
    "### DHL"
   ]
  },
  {
   "cell_type": "code",
   "execution_count": 6,
   "id": "3152de67",
   "metadata": {},
   "outputs": [
    {
     "name": "stdout",
     "output_type": "stream",
     "text": [
      "Rate limited for URL https://api-eu.dhl.com/track/shipments?trackingNumber=1465773864. Retrying each shipment individually.\n"
     ]
    }
   ],
   "source": [
    "# DHL: API Requests\n",
    "from functions1_DHL_requests import make_dhl_requests\n",
    "all_dhl_results, max_dhl_shipm = make_dhl_requests(shipments_not_delivered)"
   ]
  },
  {
   "cell_type": "code",
   "execution_count": 7,
   "id": "57c75747",
   "metadata": {
    "scrolled": true
   },
   "outputs": [
    {
     "name": "stdout",
     "output_type": "stream",
     "text": [
      "Successfully retrieved all DHL shipments data in attempt 1.\n",
      " \n"
     ]
    },
    {
     "data": {
      "text/markdown": [
       "New report file saved at: Track Reports/DHL - Track Report 27-12-2023 12_00_01.xlsx"
      ],
      "text/plain": [
       "<IPython.core.display.Markdown object>"
      ]
     },
     "metadata": {},
     "output_type": "display_data"
    }
   ],
   "source": [
    "# DHL: Extract, process and create dataframe\n",
    "from functions2_DHL_dataframe import dhl_to_dataframe\n",
    "dhl_df = dhl_to_dataframe(all_dhl_results, shipments_not_delivered, max_dhl_shipm, report_path)\n",
    "# Saved df:\n",
    "#dhl_df\n",
    "\n",
    "# Linkable df:\n",
    "# dhl_df_linkable = convert_urls_to_links(dhl_df)"
   ]
  },
  {
   "cell_type": "code",
   "execution_count": 8,
   "id": "c7119d0f",
   "metadata": {},
   "outputs": [
    {
     "data": {
      "text/plain": [
       "Index(['Carrier', 'Client Reference', 'Shipment Num.', 'Service',\n",
       "       'Origin Date', 'From (City)', 'From (Country)', 'To (City)',\n",
       "       'To (Country)', 'Num. of Pieces', 'Processing Days', 'Carrier Status',\n",
       "       'Last Update (Date)', 'Last Update (Hour)', 'Last Location (City)',\n",
       "       'Last Location (Country)', 'Last Action', 'Exception Notification',\n",
       "       'Shipment URL', 'POD Status', 'POD Link', 'POD Signature Link',\n",
       "       'Remark', 'Next Steps', 'Estimated Date Delivery',\n",
       "       'Estimated Time Delivery'],\n",
       "      dtype='object')"
      ]
     },
     "execution_count": 8,
     "metadata": {},
     "output_type": "execute_result"
    }
   ],
   "source": [
    "dhl_df.columns"
   ]
  },
  {
   "cell_type": "code",
   "execution_count": 9,
   "id": "2fcda44f",
   "metadata": {},
   "outputs": [
    {
     "data": {
      "text/plain": [
       "Index(['Carrier', 'Client Reference', 'Shipment Num.', 'Origin Date',\n",
       "       'From (City)', 'From (Country)', 'To (City)', 'To (Country)',\n",
       "       'Num. of Pieces', 'Processing Days', 'Summary Code', 'Signatory',\n",
       "       'Carrier Code Status', 'Last Update (Date)', 'Last Update (Hour)',\n",
       "       'Last Location', 'Last Action', 'Exception Notification', 'URL'],\n",
       "      dtype='object')"
      ]
     },
     "execution_count": 9,
     "metadata": {},
     "output_type": "execute_result"
    }
   ],
   "source": [
    "tnt_df.columns"
   ]
  },
  {
   "cell_type": "code",
   "execution_count": 10,
   "id": "023baddc",
   "metadata": {},
   "outputs": [
    {
     "data": {
      "text/html": [
       "<div>\n",
       "<style scoped>\n",
       "    .dataframe tbody tr th:only-of-type {\n",
       "        vertical-align: middle;\n",
       "    }\n",
       "\n",
       "    .dataframe tbody tr th {\n",
       "        vertical-align: top;\n",
       "    }\n",
       "\n",
       "    .dataframe thead th {\n",
       "        text-align: right;\n",
       "    }\n",
       "</style>\n",
       "<table border=\"1\" class=\"dataframe\">\n",
       "  <thead>\n",
       "    <tr style=\"text-align: right;\">\n",
       "      <th></th>\n",
       "      <th>Carrier</th>\n",
       "      <th>Client Reference</th>\n",
       "      <th>Shipment Num.</th>\n",
       "      <th>Origin Date</th>\n",
       "      <th>From (City)</th>\n",
       "      <th>From (Country)</th>\n",
       "      <th>To (City)</th>\n",
       "      <th>To (Country)</th>\n",
       "      <th>Num. of Pieces</th>\n",
       "      <th>Processing Days</th>\n",
       "      <th>Summary Code</th>\n",
       "      <th>Signatory</th>\n",
       "      <th>Carrier Code Status</th>\n",
       "      <th>Last Update (Date)</th>\n",
       "      <th>Last Update (Hour)</th>\n",
       "      <th>Last Location</th>\n",
       "      <th>Last Action</th>\n",
       "      <th>Exception Notification</th>\n",
       "      <th>URL</th>\n",
       "    </tr>\n",
       "  </thead>\n",
       "  <tbody>\n",
       "    <tr>\n",
       "      <th>0</th>\n",
       "      <td>TNT</td>\n",
       "      <td>DSD/140232</td>\n",
       "      <td>663782937</td>\n",
       "      <td>24-11-2023</td>\n",
       "      <td>Barcelona</td>\n",
       "      <td>Spain</td>\n",
       "      <td>Krnjesevci</td>\n",
       "      <td>Serbia</td>\n",
       "      <td>1</td>\n",
       "      <td>23</td>\n",
       "      <td>In Transit</td>\n",
       "      <td></td>\n",
       "      <td>HW</td>\n",
       "      <td>24-11-2023</td>\n",
       "      <td>21:51</td>\n",
       "      <td>Barcelona</td>\n",
       "      <td>Shipment arrived at TNT location</td>\n",
       "      <td></td>\n",
       "      <td>https://www.tnt.com/express/en_gc/site/shipping-tools/track.html?searchType=con&amp;cons=663782937</td>\n",
       "    </tr>\n",
       "    <tr>\n",
       "      <th>1</th>\n",
       "      <td>TNT</td>\n",
       "      <td>DSD/142142</td>\n",
       "      <td>663787660</td>\n",
       "      <td>28-11-2023</td>\n",
       "      <td>Barcelona</td>\n",
       "      <td>Spain</td>\n",
       "      <td>Shkoder</td>\n",
       "      <td>Albania</td>\n",
       "      <td>1</td>\n",
       "      <td>13</td>\n",
       "      <td>Delivered</td>\n",
       "      <td>L HABIBI</td>\n",
       "      <td>OK</td>\n",
       "      <td>15-12-2023</td>\n",
       "      <td>16:30</td>\n",
       "      <td>Albania Others</td>\n",
       "      <td>Shipment delivered in good condition</td>\n",
       "      <td></td>\n",
       "      <td>https://www.tnt.com/express/en_gc/site/shipping-tools/track.html?searchType=con&amp;cons=663787660</td>\n",
       "    </tr>\n",
       "    <tr>\n",
       "      <th>2</th>\n",
       "      <td>TNT</td>\n",
       "      <td>DSD/146902</td>\n",
       "      <td>663806545</td>\n",
       "      <td>07-12-2023</td>\n",
       "      <td>Barcelona</td>\n",
       "      <td>Spain</td>\n",
       "      <td>Lipari</td>\n",
       "      <td>Italy</td>\n",
       "      <td>1</td>\n",
       "      <td>7</td>\n",
       "      <td>Delivered</td>\n",
       "      <td>MERLINO</td>\n",
       "      <td>OK</td>\n",
       "      <td>18-12-2023</td>\n",
       "      <td>20:02</td>\n",
       "      <td>Messina</td>\n",
       "      <td>Shipment delivered in good condition</td>\n",
       "      <td></td>\n",
       "      <td>https://www.tnt.com/express/en_gc/site/shipping-tools/track.html?searchType=con&amp;cons=663806545</td>\n",
       "    </tr>\n",
       "    <tr>\n",
       "      <th>3</th>\n",
       "      <td>TNT</td>\n",
       "      <td>DSD/146772</td>\n",
       "      <td>663805920</td>\n",
       "      <td>07-12-2023</td>\n",
       "      <td>Barcelona</td>\n",
       "      <td>Spain</td>\n",
       "      <td>Legnago</td>\n",
       "      <td>Italy</td>\n",
       "      <td>2</td>\n",
       "      <td>5</td>\n",
       "      <td>Delivered</td>\n",
       "      <td>Bisco</td>\n",
       "      <td>OK</td>\n",
       "      <td>14-12-2023</td>\n",
       "      <td>15:11</td>\n",
       "      <td>Verona</td>\n",
       "      <td>Shipment delivered in good condition</td>\n",
       "      <td></td>\n",
       "      <td>https://www.tnt.com/express/en_gc/site/shipping-tools/track.html?searchType=con&amp;cons=663805920</td>\n",
       "    </tr>\n",
       "  </tbody>\n",
       "</table>\n",
       "</div>"
      ],
      "text/plain": [
       "  Carrier Client Reference Shipment Num. Origin Date From (City)  \\\n",
       "0     TNT       DSD/140232     663782937  24-11-2023   Barcelona   \n",
       "1     TNT       DSD/142142     663787660  28-11-2023   Barcelona   \n",
       "2     TNT       DSD/146902     663806545  07-12-2023   Barcelona   \n",
       "3     TNT       DSD/146772     663805920  07-12-2023   Barcelona   \n",
       "\n",
       "  From (Country)   To (City) To (Country) Num. of Pieces  Processing Days  \\\n",
       "0          Spain  Krnjesevci       Serbia              1               23   \n",
       "1          Spain     Shkoder      Albania              1               13   \n",
       "2          Spain      Lipari        Italy              1                7   \n",
       "3          Spain     Legnago        Italy              2                5   \n",
       "\n",
       "  Summary Code Signatory Carrier Code Status Last Update (Date)  \\\n",
       "0   In Transit                            HW         24-11-2023   \n",
       "1    Delivered  L HABIBI                  OK         15-12-2023   \n",
       "2    Delivered   MERLINO                  OK         18-12-2023   \n",
       "3    Delivered     Bisco                  OK         14-12-2023   \n",
       "\n",
       "  Last Update (Hour)   Last Location                           Last Action  \\\n",
       "0              21:51       Barcelona      Shipment arrived at TNT location   \n",
       "1              16:30  Albania Others  Shipment delivered in good condition   \n",
       "2              20:02         Messina  Shipment delivered in good condition   \n",
       "3              15:11          Verona  Shipment delivered in good condition   \n",
       "\n",
       "  Exception Notification  \\\n",
       "0                          \n",
       "1                          \n",
       "2                          \n",
       "3                          \n",
       "\n",
       "                                                                                              URL  \n",
       "0  https://www.tnt.com/express/en_gc/site/shipping-tools/track.html?searchType=con&cons=663782937  \n",
       "1  https://www.tnt.com/express/en_gc/site/shipping-tools/track.html?searchType=con&cons=663787660  \n",
       "2  https://www.tnt.com/express/en_gc/site/shipping-tools/track.html?searchType=con&cons=663806545  \n",
       "3  https://www.tnt.com/express/en_gc/site/shipping-tools/track.html?searchType=con&cons=663805920  "
      ]
     },
     "execution_count": 10,
     "metadata": {},
     "output_type": "execute_result"
    }
   ],
   "source": [
    "tnt_df.head(4)"
   ]
  },
  {
   "cell_type": "code",
   "execution_count": null,
   "id": "1a79750a",
   "metadata": {},
   "outputs": [],
   "source": []
  }
 ],
 "metadata": {
  "kernelspec": {
   "display_name": "Python 3 (ipykernel)",
   "language": "python",
   "name": "python3"
  },
  "language_info": {
   "codemirror_mode": {
    "name": "ipython",
    "version": 3
   },
   "file_extension": ".py",
   "mimetype": "text/x-python",
   "name": "python",
   "nbconvert_exporter": "python",
   "pygments_lexer": "ipython3",
   "version": "3.9.13"
  }
 },
 "nbformat": 4,
 "nbformat_minor": 5
}
