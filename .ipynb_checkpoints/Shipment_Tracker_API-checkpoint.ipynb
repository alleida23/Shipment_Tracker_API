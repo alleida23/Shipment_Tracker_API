{
 "cells": [
  {
   "cell_type": "markdown",
   "id": "5bee6d7c",
   "metadata": {},
   "source": [
    "# Shipment Tracker API"
   ]
  },
  {
   "cell_type": "code",
   "execution_count": 1,
   "id": "6dfaddf2",
   "metadata": {
    "scrolled": true
   },
   "outputs": [],
   "source": [
    "import pandas as pd\n",
    "# Set display option to show all columns\n",
    "pd.set_option('display.max_columns', None)"
   ]
  },
  {
   "cell_type": "code",
   "execution_count": 2,
   "id": "57c75747",
   "metadata": {
    "scrolled": false
   },
   "outputs": [
    {
     "data": {
      "text/markdown": [
       "**150 shipments NOT DELIVERED in your file**"
      ],
      "text/plain": [
       "<IPython.core.display.Markdown object>"
      ]
     },
     "metadata": {},
     "output_type": "display_data"
    },
    {
     "data": {
      "text/html": [
       "<div>\n",
       "<style scoped>\n",
       "    .dataframe tbody tr th:only-of-type {\n",
       "        vertical-align: middle;\n",
       "    }\n",
       "\n",
       "    .dataframe tbody tr th {\n",
       "        vertical-align: top;\n",
       "    }\n",
       "\n",
       "    .dataframe thead th {\n",
       "        text-align: right;\n",
       "    }\n",
       "</style>\n",
       "<table border=\"1\" class=\"dataframe\">\n",
       "  <thead>\n",
       "    <tr style=\"text-align: right;\">\n",
       "      <th>Status</th>\n",
       "      <th>Carrier</th>\n",
       "      <th>In Transit</th>\n",
       "      <th>Exception</th>\n",
       "      <th>Totals</th>\n",
       "    </tr>\n",
       "  </thead>\n",
       "  <tbody>\n",
       "    <tr>\n",
       "      <th>0</th>\n",
       "      <td>DHL</td>\n",
       "      <td>16</td>\n",
       "      <td>0</td>\n",
       "      <td>16</td>\n",
       "    </tr>\n",
       "    <tr>\n",
       "      <th>1</th>\n",
       "      <td>NACEX</td>\n",
       "      <td>2</td>\n",
       "      <td>1</td>\n",
       "      <td>3</td>\n",
       "    </tr>\n",
       "    <tr>\n",
       "      <th>2</th>\n",
       "      <td>SEUR</td>\n",
       "      <td>1</td>\n",
       "      <td>1</td>\n",
       "      <td>2</td>\n",
       "    </tr>\n",
       "    <tr>\n",
       "      <th>3</th>\n",
       "      <td>TNT</td>\n",
       "      <td>127</td>\n",
       "      <td>2</td>\n",
       "      <td>129</td>\n",
       "    </tr>\n",
       "  </tbody>\n",
       "</table>\n",
       "</div>"
      ],
      "text/plain": [
       "Status Carrier  In Transit  Exception  Totals\n",
       "0          DHL          16          0      16\n",
       "1        NACEX           2          1       3\n",
       "2         SEUR           1          1       2\n",
       "3          TNT         127          2     129"
      ]
     },
     "metadata": {},
     "output_type": "display_data"
    },
    {
     "name": "stdout",
     "output_type": "stream",
     "text": [
      "Total TNT shipment numbers: 129\n",
      " \n"
     ]
    },
    {
     "data": {
      "text/markdown": [
       "New report file saved at: Track Reports/TNT - Track Report 18-12-2023 10_24_40.xlsx"
      ],
      "text/plain": [
       "<IPython.core.display.Markdown object>"
      ]
     },
     "metadata": {},
     "output_type": "display_data"
    },
    {
     "name": "stdout",
     "output_type": "stream",
     "text": [
      " \n"
     ]
    },
    {
     "data": {
      "text/markdown": [
       "New report file saved at: Track Reports/DHL - Track Report 18-12-2023 10_24_50.xlsx"
      ],
      "text/plain": [
       "<IPython.core.display.Markdown object>"
      ]
     },
     "metadata": {},
     "output_type": "display_data"
    }
   ],
   "source": [
    "from functions0_basics import get_files_path, shipments_not_delivered, get_API_details\n",
    "# Added chromedriver if needed\n",
    "excel_path, report_path, chromedriver_path = get_files_path(\"Albert\")\n",
    "shipments_not_delivered = shipments_not_delivered(excel_path)\n",
    "\n",
    "from functions1_TNT_requests import make_tnt_requests\n",
    "tnt_results, len_shipm_numbers = make_tnt_requests(shipments_not_delivered)\n",
    "\n",
    "from functions2_TNT_dataframe import tnt_to_dataframe\n",
    "tnt_df = tnt_to_dataframe(tnt_results, len_shipm_numbers, report_path)\n",
    "#display(tnt_df.head(3), tnt_df.tail(3))\n",
    "\n",
    "from functions1_DHL_requests import make_dhl_requests\n",
    "all_dhl_results, max_dhl_shipm = make_dhl_requests(shipments_not_delivered)\n",
    "\n",
    "from functions2_DHL_dataframe import dhl_to_dataframe\n",
    "dhl_df = dhl_to_dataframe(all_dhl_results, shipments_not_delivered, max_dhl_shipm, report_path)\n",
    "#dhl_df"
   ]
  },
  {
   "cell_type": "code",
   "execution_count": null,
   "id": "e247c805",
   "metadata": {},
   "outputs": [],
   "source": []
  },
  {
   "cell_type": "code",
   "execution_count": null,
   "id": "65eb7419",
   "metadata": {},
   "outputs": [],
   "source": [
    "#tnt_df.to_excel(\"./Track Reports/dhl_clean_report.xlsx\")"
   ]
  },
  {
   "cell_type": "code",
   "execution_count": null,
   "id": "026faf4d",
   "metadata": {
    "scrolled": true
   },
   "outputs": [],
   "source": [
    "#dhl_df.to_excel(\"./Track Reports/dhl_clean_report.xlsx\")"
   ]
  }
 ],
 "metadata": {
  "kernelspec": {
   "display_name": "Python 3 (ipykernel)",
   "language": "python",
   "name": "python3"
  },
  "language_info": {
   "codemirror_mode": {
    "name": "ipython",
    "version": 3
   },
   "file_extension": ".py",
   "mimetype": "text/x-python",
   "name": "python",
   "nbconvert_exporter": "python",
   "pygments_lexer": "ipython3",
   "version": "3.9.13"
  }
 },
 "nbformat": 4,
 "nbformat_minor": 5
}
