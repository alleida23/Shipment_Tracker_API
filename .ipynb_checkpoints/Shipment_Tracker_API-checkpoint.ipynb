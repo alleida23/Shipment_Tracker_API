{
 "cells": [
  {
   "cell_type": "markdown",
   "id": "5bee6d7c",
   "metadata": {},
   "source": [
    "# Shipment Tracker API"
   ]
  },
  {
   "cell_type": "code",
   "execution_count": 1,
   "id": "6dfaddf2",
   "metadata": {
    "scrolled": true
   },
   "outputs": [],
   "source": [
    "import pandas as pd\n",
    "\n",
    "# Set display option to show all columns and max column width\n",
    "pd.set_option('display.max_columns', None)\n",
    "pd.set_option('display.max_colwidth', None)"
   ]
  },
  {
   "cell_type": "markdown",
   "id": "8be5bbe7",
   "metadata": {},
   "source": [
    "### File Paths and Backup"
   ]
  },
  {
   "cell_type": "code",
   "execution_count": 2,
   "id": "dbfc6e2c",
   "metadata": {},
   "outputs": [
    {
     "name": "stdout",
     "output_type": "stream",
     "text": [
      "Backup saved to: ./Shipment Data/BackUp - Daily Report Shipments of Spare Parts.xlsx 28-12-2023 17_48_15.xlsx\n",
      "Deleted old backup: ./Shipment Data/BackUp - Daily Report Shipments of Spare Parts.xlsx 28-12-2023 17_09_16.xlsx\n"
     ]
    }
   ],
   "source": [
    "from functions0_basics import (get_files_path,\n",
    "                               save_backup,\n",
    "                               shipments_not_delivered,\n",
    "                               get_API_details, save_to_excel, convert_urls_to_links)\n",
    "\n",
    "# Get files paths and store them into variables (chromedriver if needed)\n",
    "excel_path, report_path, chromedriver_path = get_files_path(\"Albert\")\n",
    "\n",
    "# Create a backup of original Excel file \n",
    "save_backup(excel_path)"
   ]
  },
  {
   "cell_type": "code",
   "execution_count": 3,
   "id": "d397aba5",
   "metadata": {},
   "outputs": [
    {
     "data": {
      "text/markdown": [
       "**Not Delivered** Shipments by Carrier in Former Report: 150"
      ],
      "text/plain": [
       "<IPython.core.display.Markdown object>"
      ]
     },
     "metadata": {},
     "output_type": "display_data"
    },
    {
     "data": {
      "text/html": [
       "<div>\n",
       "<style scoped>\n",
       "    .dataframe tbody tr th:only-of-type {\n",
       "        vertical-align: middle;\n",
       "    }\n",
       "\n",
       "    .dataframe tbody tr th {\n",
       "        vertical-align: top;\n",
       "    }\n",
       "\n",
       "    .dataframe thead th {\n",
       "        text-align: right;\n",
       "    }\n",
       "</style>\n",
       "<table border=\"1\" class=\"dataframe\">\n",
       "  <thead>\n",
       "    <tr style=\"text-align: right;\">\n",
       "      <th>Status</th>\n",
       "      <th>Carrier</th>\n",
       "      <th>In Transit</th>\n",
       "      <th>Exception</th>\n",
       "      <th>Totals</th>\n",
       "    </tr>\n",
       "  </thead>\n",
       "  <tbody>\n",
       "    <tr>\n",
       "      <th>0</th>\n",
       "      <td>DHL</td>\n",
       "      <td>16</td>\n",
       "      <td>0</td>\n",
       "      <td>16</td>\n",
       "    </tr>\n",
       "    <tr>\n",
       "      <th>1</th>\n",
       "      <td>NACEX</td>\n",
       "      <td>2</td>\n",
       "      <td>1</td>\n",
       "      <td>3</td>\n",
       "    </tr>\n",
       "    <tr>\n",
       "      <th>2</th>\n",
       "      <td>SEUR</td>\n",
       "      <td>1</td>\n",
       "      <td>1</td>\n",
       "      <td>2</td>\n",
       "    </tr>\n",
       "    <tr>\n",
       "      <th>3</th>\n",
       "      <td>TNT</td>\n",
       "      <td>127</td>\n",
       "      <td>2</td>\n",
       "      <td>129</td>\n",
       "    </tr>\n",
       "  </tbody>\n",
       "</table>\n",
       "</div>"
      ],
      "text/plain": [
       "Status Carrier  In Transit  Exception  Totals\n",
       "0          DHL          16          0      16\n",
       "1        NACEX           2          1       3\n",
       "2         SEUR           1          1       2\n",
       "3          TNT         127          2     129"
      ]
     },
     "metadata": {},
     "output_type": "display_data"
    }
   ],
   "source": [
    "# Get data for all carriers != 'Delivered'\n",
    "shipments_not_delivered = shipments_not_delivered(excel_path)"
   ]
  },
  {
   "cell_type": "markdown",
   "id": "5076f347",
   "metadata": {},
   "source": [
    "### TNT"
   ]
  },
  {
   "cell_type": "code",
   "execution_count": 4,
   "id": "623ac779",
   "metadata": {},
   "outputs": [],
   "source": [
    "# TNT: API Requests\n",
    "from functions1_TNT_requests import make_tnt_requests\n",
    "tnt_results, len_shipm_numbers = make_tnt_requests(shipments_not_delivered)"
   ]
  },
  {
   "cell_type": "code",
   "execution_count": 5,
   "id": "d7f9a6a2",
   "metadata": {},
   "outputs": [
    {
     "name": "stdout",
     "output_type": "stream",
     "text": [
      "Successfully retrieved all TNT shipments data in attempt 1.\n",
      " \n"
     ]
    },
    {
     "data": {
      "text/markdown": [
       "New report file saved at: Track Reports/TNT - Track Report 28-12-2023 17_48_20.xlsx"
      ],
      "text/plain": [
       "<IPython.core.display.Markdown object>"
      ]
     },
     "metadata": {},
     "output_type": "display_data"
    }
   ],
   "source": [
    "# TNT: Extract, process and create dataframe\n",
    "from functions2_TNT_dataframe import tnt_to_dataframe\n",
    "tnt_df = tnt_to_dataframe(tnt_results, shipments_not_delivered, len_shipm_numbers, report_path)\n",
    "# Linkable df:\n",
    "# tnt_df_linkable = convert_urls_to_links(tnt_df)"
   ]
  },
  {
   "cell_type": "markdown",
   "id": "4b138a19",
   "metadata": {},
   "source": [
    "### DHL"
   ]
  },
  {
   "cell_type": "code",
   "execution_count": 6,
   "id": "3152de67",
   "metadata": {},
   "outputs": [
    {
     "name": "stdout",
     "output_type": "stream",
     "text": [
      "Rate limited for URL https://api-eu.dhl.com/track/shipments?trackingNumber=3746403511,9951930472,3764738865. Retrying each shipment individually.\n",
      "Error 429 for https://api-eu.dhl.com/track/shipments?trackingNumber=9951930472: Too many requests within defined time period, please try again later.\n",
      "Rate limited for URL https://api-eu.dhl.com/track/shipments?trackingNumber=1465773864. Retrying each shipment individually.\n"
     ]
    }
   ],
   "source": [
    "# DHL: API Requests\n",
    "from functions1_DHL_requests import make_dhl_requests\n",
    "all_dhl_results, max_dhl_shipm = make_dhl_requests(shipments_not_delivered)"
   ]
  },
  {
   "cell_type": "code",
   "execution_count": 7,
   "id": "57c75747",
   "metadata": {
    "scrolled": true
   },
   "outputs": [
    {
     "name": "stdout",
     "output_type": "stream",
     "text": [
      "Missing DHL data in attempt 1.\n",
      "Attempt: 1 / 3\r",
      "Missing DHL data in attempt 2.\n",
      "Attempt: 2 / 3\r",
      "Missing DHL data in attempt 3.\n",
      "Attempt: 3 / 3\r\n",
      "Maximum attempts reached. Could not retrieve all DHL shipments data.\n",
      "\n",
      "Missing DHL data shipments URL: \n",
      "https://www.dhl.com/es-en/home/tracking/tracking-express.html?submit=1&tracking-id=9951930472\n",
      " \n"
     ]
    },
    {
     "data": {
      "text/markdown": [
       "New report file saved at: Track Reports/DHL - Track Report 28-12-2023 17_48_37.xlsx"
      ],
      "text/plain": [
       "<IPython.core.display.Markdown object>"
      ]
     },
     "metadata": {},
     "output_type": "display_data"
    }
   ],
   "source": [
    "# DHL: Extract, process and create dataframe\n",
    "from functions2_DHL_dataframe import dhl_to_dataframe\n",
    "dhl_df = dhl_to_dataframe(all_dhl_results, shipments_not_delivered, max_dhl_shipm, report_path)\n",
    "# Linkable df:\n",
    "#dhl_df_linkable = convert_urls_to_links(dhl_df)"
   ]
  },
  {
   "cell_type": "code",
   "execution_count": 9,
   "id": "33950811",
   "metadata": {},
   "outputs": [
    {
     "name": "stdout",
     "output_type": "stream",
     "text": [
      "\n",
      "Total TNT Shipments in new report: 129\n",
      "\n",
      "New TNT shipments included: 0\n",
      "\n",
      "Former TNT shipments count (new shipments not included):\n",
      "--> Delivered: +0\n",
      "--> In Transit: -126\n",
      "--> Exception: -2\n",
      "\n",
      "Total DHL Shipments in new report: 16\n",
      "\n",
      "New DHL shipments included: 0\n",
      "\n",
      "Former DHL shipments count (new shipments not included):\n",
      "--> Delivered: +0\n",
      "--> In Transit: -16\n",
      "--> Exception: +0\n"
     ]
    }
   ],
   "source": [
    "def display_shipment_counts(carrier, former_report, updated_report):\n",
    "    \"\"\"\n",
    "    Display shipment counts for a given carrier in the new and former reports.\n",
    "\n",
    "    Parameters:\n",
    "    - carrier (str): The carrier name.\n",
    "    - former_report (DataFrame): The former shipment report.\n",
    "    - updated_report (DataFrame): The updated shipment report.\n",
    "\n",
    "    Returns:\n",
    "    None\n",
    "    \"\"\"\n",
    "\n",
    "    # Total shipments in the new report\n",
    "    new_report_len = len(updated_report)\n",
    "    print(f\"\\nTotal {carrier} Shipments in new report: {new_report_len}\")\n",
    "\n",
    "    # New shipments included in the updated report\n",
    "    new_shipments_index = updated_report.index.difference(former_report.index)\n",
    "    new_shipments_count = len(new_shipments_index)\n",
    "    print(f\"\\nNew {carrier} shipments included: {new_shipments_count}\")\n",
    "\n",
    "    # Common indexes in both reports (excluding new shipments)\n",
    "    common_indexes = updated_report.index.intersection(former_report.index)\n",
    "    updated_delivered_report = updated_report.loc[common_indexes]\n",
    "    new_delivered_count = len(former_report) - len(updated_delivered_report)\n",
    "\n",
    "    # Status counts for former and updated reports\n",
    "    former_status_report = former_report.loc[common_indexes]\n",
    "    former_intransit_count = former_status_report['Status'].eq('IN TRANSIT').sum()\n",
    "    former_exception_count = former_status_report['Status'].eq('EXCEPTION').sum()\n",
    "\n",
    "    updated_intransit_count = updated_delivered_report['Status'].eq('IN TRANSIT').sum()\n",
    "    updated_exception_count = updated_delivered_report['Status'].eq('EXCEPTION').sum()\n",
    "\n",
    "    # Calculate the count of new in transit and exception shipments\n",
    "    new_intransit_count = updated_intransit_count - former_intransit_count\n",
    "    new_exception_count = updated_exception_count - former_exception_count\n",
    "\n",
    "    # Display the count\n",
    "    print(f\"\\nFormer {carrier} shipments count (new shipments not included):\")\n",
    "    print(\"--> Delivered:\", f\"+{new_delivered_count}\" if new_delivered_count >= 0 else new_delivered_count)\n",
    "    print(\"--> In Transit:\", f\"+{new_intransit_count}\" if new_intransit_count >= 0 else new_intransit_count)\n",
    "    print(\"--> Exception:\", f\"+{new_exception_count}\" if new_exception_count >= 0 else new_exception_count)\n",
    "\n",
    "# Example usage:\n",
    "# carrier = 'TNT'\n",
    "# display_shipment_counts(carrier, former_report, updated_report)\n",
    "\n",
    "\n",
    "def update_shipment_data(carrier, df, current_df):\n",
    "    \"\"\"\n",
    "    Update the shipment status in the main DataFrame based on the current carrier's report.\n",
    "\n",
    "    Parameters:\n",
    "    - carrier (str): Name of the carrier (e.g., 'TNT').\n",
    "    - df (DataFrame): Main DataFrame containing shipment data.\n",
    "    - current_df (DataFrame): Current carrier's report DataFrame.\n",
    "\n",
    "    Returns:\n",
    "    - df (DataFrame): Updated main DataFrame.\n",
    "\n",
    "    Description:\n",
    "    This function updates the 'Status', 'Signatory', 'Last Update', 'In Transit Days', 'Shipment URL', and potentially 'POD URL'\n",
    "    columns in the main DataFrame ('df') based on the information in the current carrier's report ('current_df').\n",
    "    It considers the specified carrier, handles different status column names, and displays shipment count changes.\n",
    "\n",
    "    Example Usage:\n",
    "    df = update_shipment_status('TNT', df, tnt_df.copy())\n",
    "    \"\"\"\n",
    "    import numpy as np\n",
    "    #from functions3_update_report import display_shipment_counts\n",
    "    \n",
    "    # Former Carrier Report\n",
    "    former_report = df[['LOGIS ID', 'T&T reference', 'Status']][(df['Carrier'] == carrier) & (df['Status'] != 'DELIVERED')]\n",
    "\n",
    "    carrier_rows_to_update = df[(df['Carrier'] == carrier) & (df['Status'] != 'DELIVERED')]\n",
    "\n",
    "    for index, row in carrier_rows_to_update.iterrows():\n",
    "        # Set the condition to update data for the proper shipment\n",
    "        condition = (current_df['Client Reference'] == row['LOGIS ID']) & (current_df['Shipment Num.'] == row['T&T reference'])\n",
    "        if condition.any():\n",
    "            # Carrier Status\n",
    "            current_signatory = current_df.loc[condition, 'Carrier Status'].values[0]\n",
    "            df.at[index, 'Status'] = current_signatory\n",
    "\n",
    "            # Signatory\n",
    "            current_signatory = current_df.loc[condition, 'Signatory'].values[0]\n",
    "            df.at[index, 'Signatory'] = current_signatory\n",
    "\n",
    "            # Last Update\n",
    "            current_last_update = current_df.loc[condition, 'Last Update (Date)'].values[0]\n",
    "            df.at[index, 'Last Update'] = current_last_update\n",
    "            \n",
    "            # Last Action\n",
    "            current_last_action = current_df.loc[condition,'Last Action'].values[0]\n",
    "            df.at[index, 'Comments logisteed'] = current_last_action\n",
    "\n",
    "            # Processing days\n",
    "            current_processing_days = current_df.loc[condition, 'Processing Days'].values[0]\n",
    "            df.at[index, 'In Transit Days'] = current_processing_days\n",
    "\n",
    "            # Shipment URL\n",
    "            current_shipment_url = current_df.loc[condition, 'Shipment URL'].values[0]\n",
    "            df.at[index, 'Shipment URL'] = current_shipment_url\n",
    "\n",
    "            # POD URL (not yet)\n",
    "            # current_pod_url = current_df.loc[condition, 'POD URL'].values[0]\n",
    "            # df.at[index, 'POD URL'] = current_pod_url\n",
    "        else:\n",
    "            pass\n",
    "\n",
    "    # Updated Carrier Report\n",
    "    updated_report = df[['LOGIS ID', 'T&T reference', 'Status']][(df['Carrier'] == carrier) & (df['Status'] != 'DELIVERED')]\n",
    "\n",
    "    # Display the shipment counts\n",
    "    display_shipment_counts(carrier, former_report, updated_report)\n",
    "\n",
    "    return df\n",
    "\n",
    "# Example Usage\n",
    "# df = update_shipment_data('TNT', df, current_df)\n",
    "\n",
    "\n",
    "def update_former_report(excel_path, *dataframes):\n",
    "    \"\"\"\n",
    "    Update the original Excel file with new data from the provided DataFrames.\n",
    "\n",
    "    Parameters:\n",
    "    - excel_path (str): Path to the original Excel file.\n",
    "    - *dataframes (pandas.DataFrame): One or more DataFrames containing new data.\n",
    "\n",
    "    Returns:\n",
    "    - df (pandas.DataFrame): Updated main DataFrame.\n",
    "    \"\"\"\n",
    "    import pandas as pd\n",
    "    #from functions3_update_report import update_shipment_data\n",
    "\n",
    "    # Read the original Excel file into a DataFrame\n",
    "    df = pd.read_excel(excel_path)\n",
    "\n",
    "    # Fill NaN values in the DataFrame with empty strings\n",
    "    df = df.fillna('')\n",
    "\n",
    "    # Column names for the new general report\n",
    "    columns_new_df = ['LOGIS ID', 'shiping date', 'Reference 1', 'Reference 2', 'Reference 3',\n",
    "                       'Service', 'Carrier', 'T&T reference', 'Destination name',\n",
    "                       'Destination address', 'Postal code', 'CC', 'Status', 'Signatory',\n",
    "                       'DELIVERED', 'Comments logisteed', 'In Transit Days',\n",
    "                       'Email Send Date', 'Shipment URL', 'POD URL']\n",
    "\n",
    "    # Ensure columns exist or create them\n",
    "    for column in columns_new_df:\n",
    "        if column not in df.columns:\n",
    "            df[column] = ''\n",
    "\n",
    "    # Rename columns\n",
    "    columns_to_rename = {'DELIVERED': 'Last Update'}\n",
    "    df.rename(columns=columns_to_rename, inplace=True)\n",
    "\n",
    "    for input_df in dataframes:\n",
    "        try:\n",
    "            # Example scenario for tnt_df\n",
    "            if input_df is not None and input_df is tnt_df:\n",
    "                carrier = 'TNT'\n",
    "                current_df = tnt_df.copy()\n",
    "                df = update_shipment_data(carrier, df, current_df)\n",
    "            elif input_df is not None and input_df is dhl_df:\n",
    "                # Example scenario for dhl_df\n",
    "                carrier = 'DHL'\n",
    "                current_df = dhl_df.copy()\n",
    "                df = update_shipment_data(carrier, df, current_df)\n",
    "                # Add your dhl-specific logic here\n",
    "        except Exception as e:\n",
    "            # Handle exceptions if necessary\n",
    "            print(f\"An error occurred: {e}\")\n",
    "\n",
    "    # Save the updated DataFrame to the original Excel file\n",
    "    # df.to_excel(excel_path, index=False)\n",
    "\n",
    "    return df\n",
    "\n",
    "\n",
    "# Example usage:\n",
    "updated_report = update_former_report(excel_path, tnt_df, dhl_df)"
   ]
  },
  {
   "cell_type": "code",
   "execution_count": null,
   "id": "0aaabb0e",
   "metadata": {},
   "outputs": [],
   "source": []
  },
  {
   "cell_type": "code",
   "execution_count": null,
   "id": "bd2cf26a",
   "metadata": {},
   "outputs": [],
   "source": []
  },
  {
   "cell_type": "code",
   "execution_count": null,
   "id": "c5527314",
   "metadata": {},
   "outputs": [],
   "source": []
  },
  {
   "cell_type": "code",
   "execution_count": null,
   "id": "eb44cc7c",
   "metadata": {},
   "outputs": [],
   "source": []
  },
  {
   "cell_type": "code",
   "execution_count": null,
   "id": "52dd928d",
   "metadata": {},
   "outputs": [],
   "source": []
  },
  {
   "cell_type": "code",
   "execution_count": null,
   "id": "b1101c66",
   "metadata": {},
   "outputs": [],
   "source": []
  },
  {
   "cell_type": "code",
   "execution_count": null,
   "id": "b3dfb927",
   "metadata": {},
   "outputs": [],
   "source": [
    "from functions3_update_report import update_former_report\n",
    "updated_report = update_former_report(excel_path, tnt_df, dhl_df)"
   ]
  },
  {
   "cell_type": "code",
   "execution_count": null,
   "id": "ee078f36",
   "metadata": {},
   "outputs": [],
   "source": []
  },
  {
   "cell_type": "code",
   "execution_count": null,
   "id": "ef2bd21b",
   "metadata": {},
   "outputs": [],
   "source": []
  },
  {
   "cell_type": "code",
   "execution_count": null,
   "id": "1f1a5881",
   "metadata": {},
   "outputs": [],
   "source": []
  },
  {
   "cell_type": "code",
   "execution_count": null,
   "id": "7ec5e4eb",
   "metadata": {},
   "outputs": [],
   "source": []
  },
  {
   "cell_type": "code",
   "execution_count": null,
   "id": "bc9cc91d",
   "metadata": {},
   "outputs": [],
   "source": []
  },
  {
   "cell_type": "code",
   "execution_count": null,
   "id": "9ca175b1",
   "metadata": {},
   "outputs": [],
   "source": []
  },
  {
   "cell_type": "code",
   "execution_count": null,
   "id": "8e825ab1",
   "metadata": {},
   "outputs": [],
   "source": []
  },
  {
   "cell_type": "code",
   "execution_count": null,
   "id": "98d846b4",
   "metadata": {},
   "outputs": [],
   "source": []
  },
  {
   "cell_type": "code",
   "execution_count": null,
   "id": "32aeb6a6",
   "metadata": {},
   "outputs": [],
   "source": [
    "shipments_not_delivered[shipments_not_delivered['Carrier'] == 'TNT']"
   ]
  },
  {
   "cell_type": "code",
   "execution_count": null,
   "id": "c8af1cc8",
   "metadata": {},
   "outputs": [],
   "source": [
    "new_report[new_report['T&T reference']=='663787660']"
   ]
  },
  {
   "cell_type": "code",
   "execution_count": null,
   "id": "fcac4e4c",
   "metadata": {},
   "outputs": [],
   "source": [
    "for index, row in shipments_not_delivered[shipments_not_delivered['Carrier'] == 'TNT'].iterrows():\n",
    "    current_shipm = row['T&T reference']\n",
    "    former_status = row['Status']\n",
    "    \n",
    "    # Find updated rows in new_report for the current_shipm\n",
    "    updated_shipments = new_report[new_report['T&T reference'] == current_shipm]\n",
    "    \n",
    "    # Iterate through updated rows (in case there are multiple matches)\n",
    "    for _, updated_row in updated_shipments.iterrows():\n",
    "        updated_status = updated_row['Status']\n",
    "        print(f\"{current_shipm} - {former_status} - {updated_status}\")\n"
   ]
  },
  {
   "cell_type": "code",
   "execution_count": null,
   "id": "64b2007f",
   "metadata": {},
   "outputs": [],
   "source": []
  },
  {
   "cell_type": "code",
   "execution_count": null,
   "id": "1e9674ba",
   "metadata": {},
   "outputs": [],
   "source": []
  }
 ],
 "metadata": {
  "kernelspec": {
   "display_name": "Python 3 (ipykernel)",
   "language": "python",
   "name": "python3"
  },
  "language_info": {
   "codemirror_mode": {
    "name": "ipython",
    "version": 3
   },
   "file_extension": ".py",
   "mimetype": "text/x-python",
   "name": "python",
   "nbconvert_exporter": "python",
   "pygments_lexer": "ipython3",
   "version": "3.9.13"
  }
 },
 "nbformat": 4,
 "nbformat_minor": 5
}
