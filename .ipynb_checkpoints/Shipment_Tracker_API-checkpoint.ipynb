{
 "cells": [
  {
   "cell_type": "markdown",
   "id": "5bee6d7c",
   "metadata": {},
   "source": [
    "# Shipment Tracker API"
   ]
  },
  {
   "cell_type": "code",
   "execution_count": 1,
   "id": "6dfaddf2",
   "metadata": {
    "scrolled": true
   },
   "outputs": [],
   "source": [
    "import pandas as pd\n",
    "\n",
    "# Set display option to show all columns and max column width\n",
    "pd.set_option('display.max_columns', None)\n",
    "pd.set_option('display.max_colwidth', None)"
   ]
  },
  {
   "cell_type": "markdown",
   "id": "8be5bbe7",
   "metadata": {},
   "source": [
    "### File Paths and Backup"
   ]
  },
  {
   "cell_type": "code",
   "execution_count": 2,
   "id": "dbfc6e2c",
   "metadata": {},
   "outputs": [
    {
     "name": "stdout",
     "output_type": "stream",
     "text": [
      "Backup saved to: ./Shipment Data/BackUp - Daily Report Shipments of Spare Parts.xlsx 26-12-2023 20_59_10.xlsx\n",
      "Deleted old backup: ./Shipment Data/BackUp - Daily Report Shipments of Spare Parts.xlsx 26-12-2023 20_37_18.xlsx\n"
     ]
    }
   ],
   "source": [
    "from functions0_basics import (get_files_path,\n",
    "                               save_backup,\n",
    "                               shipments_not_delivered,\n",
    "                               get_API_details, save_to_excel, convert_urls_to_links)\n",
    "\n",
    "# Get files paths and store them into variables (chromedriver if needed)\n",
    "excel_path, report_path, chromedriver_path = get_files_path(\"Albert\")\n",
    "\n",
    "# Create a backup of original Excel file \n",
    "save_backup(excel_path)"
   ]
  },
  {
   "cell_type": "code",
   "execution_count": 3,
   "id": "d397aba5",
   "metadata": {},
   "outputs": [
    {
     "data": {
      "text/markdown": [
       "**150 shipments NOT DELIVERED in your file**"
      ],
      "text/plain": [
       "<IPython.core.display.Markdown object>"
      ]
     },
     "metadata": {},
     "output_type": "display_data"
    },
    {
     "data": {
      "text/html": [
       "<div>\n",
       "<style scoped>\n",
       "    .dataframe tbody tr th:only-of-type {\n",
       "        vertical-align: middle;\n",
       "    }\n",
       "\n",
       "    .dataframe tbody tr th {\n",
       "        vertical-align: top;\n",
       "    }\n",
       "\n",
       "    .dataframe thead th {\n",
       "        text-align: right;\n",
       "    }\n",
       "</style>\n",
       "<table border=\"1\" class=\"dataframe\">\n",
       "  <thead>\n",
       "    <tr style=\"text-align: right;\">\n",
       "      <th>Status</th>\n",
       "      <th>Carrier</th>\n",
       "      <th>In Transit</th>\n",
       "      <th>Exception</th>\n",
       "      <th>Totals</th>\n",
       "    </tr>\n",
       "  </thead>\n",
       "  <tbody>\n",
       "    <tr>\n",
       "      <th>0</th>\n",
       "      <td>DHL</td>\n",
       "      <td>16</td>\n",
       "      <td>0</td>\n",
       "      <td>16</td>\n",
       "    </tr>\n",
       "    <tr>\n",
       "      <th>1</th>\n",
       "      <td>NACEX</td>\n",
       "      <td>2</td>\n",
       "      <td>1</td>\n",
       "      <td>3</td>\n",
       "    </tr>\n",
       "    <tr>\n",
       "      <th>2</th>\n",
       "      <td>SEUR</td>\n",
       "      <td>1</td>\n",
       "      <td>1</td>\n",
       "      <td>2</td>\n",
       "    </tr>\n",
       "    <tr>\n",
       "      <th>3</th>\n",
       "      <td>TNT</td>\n",
       "      <td>127</td>\n",
       "      <td>2</td>\n",
       "      <td>129</td>\n",
       "    </tr>\n",
       "  </tbody>\n",
       "</table>\n",
       "</div>"
      ],
      "text/plain": [
       "Status Carrier  In Transit  Exception  Totals\n",
       "0          DHL          16          0      16\n",
       "1        NACEX           2          1       3\n",
       "2         SEUR           1          1       2\n",
       "3          TNT         127          2     129"
      ]
     },
     "metadata": {},
     "output_type": "display_data"
    }
   ],
   "source": [
    "# Get data for all carriers != 'Delivered'\n",
    "shipments_not_delivered = shipments_not_delivered(excel_path)"
   ]
  },
  {
   "cell_type": "markdown",
   "id": "5076f347",
   "metadata": {},
   "source": [
    "### TNT"
   ]
  },
  {
   "cell_type": "code",
   "execution_count": 4,
   "id": "623ac779",
   "metadata": {},
   "outputs": [],
   "source": [
    "# TNT: API Requests\n",
    "from functions1_TNT_requests import make_tnt_requests\n",
    "tnt_results, len_shipm_numbers = make_tnt_requests(shipments_not_delivered)"
   ]
  },
  {
   "cell_type": "code",
   "execution_count": 5,
   "id": "d7f9a6a2",
   "metadata": {},
   "outputs": [
    {
     "name": "stdout",
     "output_type": "stream",
     "text": [
      "Successfully retrieved all TNT shipments data in attempt 1.\n",
      " \n"
     ]
    },
    {
     "data": {
      "text/markdown": [
       "New report file saved at: Track Reports/TNT - Track Report 26-12-2023 20_59_17.xlsx"
      ],
      "text/plain": [
       "<IPython.core.display.Markdown object>"
      ]
     },
     "metadata": {},
     "output_type": "display_data"
    }
   ],
   "source": [
    "# TNT: Extract, process and create dataframe\n",
    "from functions2_TNT_dataframe import tnt_to_dataframe\n",
    "tnt_df = tnt_to_dataframe(tnt_results, shipments_not_delivered, len_shipm_numbers, report_path)\n",
    "# Saved df:\n",
    "#tnt_df\n",
    "\n",
    "# Linkable df:\n",
    "# tnt_df_linkable = convert_urls_to_links(tnt_df)"
   ]
  },
  {
   "cell_type": "markdown",
   "id": "4b138a19",
   "metadata": {},
   "source": [
    "### DHL"
   ]
  },
  {
   "cell_type": "code",
   "execution_count": 6,
   "id": "3152de67",
   "metadata": {},
   "outputs": [
    {
     "name": "stdout",
     "output_type": "stream",
     "text": [
      "Rate limited for URL https://api-eu.dhl.com/track/shipments?trackingNumber=3746393210,5581782161,1465781925. Retrying each shipment individually.\n",
      "Error 429 for https://api-eu.dhl.com/track/shipments?trackingNumber=5581782161: Too many requests within defined time period, please try again later.\n"
     ]
    }
   ],
   "source": [
    "# DHL: API Requests\n",
    "from functions1_DHL_requests import make_dhl_requests\n",
    "all_dhl_results, max_dhl_shipm = make_dhl_requests(shipments_not_delivered)"
   ]
  },
  {
   "cell_type": "code",
   "execution_count": 7,
   "id": "57c75747",
   "metadata": {
    "scrolled": true
   },
   "outputs": [
    {
     "name": "stdout",
     "output_type": "stream",
     "text": [
      "Missing DHL data in attempt 1.\n",
      "Attempt: 1 / 3\r",
      "Missing DHL data in attempt 2.\n",
      "Attempt: 2 / 3\r",
      "Missing DHL data in attempt 3.\n",
      "Attempt: 3 / 3\r\n",
      "Maximum attempts reached. Could not retrieve all DHL shipments data.\n",
      "\n",
      "Missing DHL data shipments URL: \n",
      "https://www.dhl.com/es-en/home/tracking/tracking-express.html?submit=1&tracking-id=5581782161\n",
      " \n"
     ]
    },
    {
     "data": {
      "text/markdown": [
       "New report file saved at: Track Reports/DHL - Track Report 26-12-2023 20_59_27.xlsx"
      ],
      "text/plain": [
       "<IPython.core.display.Markdown object>"
      ]
     },
     "metadata": {},
     "output_type": "display_data"
    }
   ],
   "source": [
    "# DHL: Extract, process and create dataframe\n",
    "from functions2_DHL_dataframe import dhl_to_dataframe\n",
    "dhl_df = dhl_to_dataframe(all_dhl_results, shipments_not_delivered, max_dhl_shipm, report_path)\n",
    "# Saved df:\n",
    "#dhl_df\n",
    "\n",
    "# Linkable df:\n",
    "# dhl_df_linkable = convert_urls_to_links(dhl_df)"
   ]
  },
  {
   "cell_type": "code",
   "execution_count": null,
   "id": "c7119d0f",
   "metadata": {},
   "outputs": [],
   "source": []
  }
 ],
 "metadata": {
  "kernelspec": {
   "display_name": "Python 3 (ipykernel)",
   "language": "python",
   "name": "python3"
  },
  "language_info": {
   "codemirror_mode": {
    "name": "ipython",
    "version": 3
   },
   "file_extension": ".py",
   "mimetype": "text/x-python",
   "name": "python",
   "nbconvert_exporter": "python",
   "pygments_lexer": "ipython3",
   "version": "3.9.13"
  }
 },
 "nbformat": 4,
 "nbformat_minor": 5
}
