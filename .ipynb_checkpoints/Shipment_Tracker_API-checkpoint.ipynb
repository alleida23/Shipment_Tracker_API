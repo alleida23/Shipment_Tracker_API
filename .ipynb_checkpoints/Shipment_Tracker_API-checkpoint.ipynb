{
 "cells": [
  {
   "cell_type": "markdown",
   "id": "5bee6d7c",
   "metadata": {},
   "source": [
    "# Shipment Tracker API"
   ]
  },
  {
   "cell_type": "code",
   "execution_count": 1,
   "id": "6dfaddf2",
   "metadata": {
    "scrolled": true
   },
   "outputs": [],
   "source": [
    "import pandas as pd\n",
    "\n",
    "# Set display option to show all columns and max column width\n",
    "pd.set_option('display.max_columns', None)\n",
    "pd.set_option('display.max_colwidth', None)"
   ]
  },
  {
   "cell_type": "markdown",
   "id": "8be5bbe7",
   "metadata": {},
   "source": [
    "### File Paths and Backup"
   ]
  },
  {
   "cell_type": "code",
   "execution_count": 2,
   "id": "dbfc6e2c",
   "metadata": {},
   "outputs": [
    {
     "name": "stdout",
     "output_type": "stream",
     "text": [
      "Backup saved to: ./Shipment Data/BackUp - Daily Report Shipments of Spare Parts.xlsx 31-12-2023 11_45_03.xlsx\n",
      "Deleted old backup: ./Shipment Data/BackUp - Daily Report Shipments of Spare Parts.xlsx 31-12-2023 10_49_02.xlsx\n"
     ]
    }
   ],
   "source": [
    "from functions0_basics import (get_files_path,\n",
    "                               save_backup,\n",
    "                               shipments_not_delivered,\n",
    "                               get_API_details, save_to_excel, convert_urls_to_links)\n",
    "\n",
    "# Get files paths and store them into variables (chromedriver if needed)\n",
    "excel_path, report_path, chromedriver_path = get_files_path(\"Albert\")\n",
    "\n",
    "# Create a backup of original Excel file \n",
    "save_backup(excel_path)"
   ]
  },
  {
   "cell_type": "code",
   "execution_count": 3,
   "id": "d397aba5",
   "metadata": {},
   "outputs": [
    {
     "data": {
      "text/markdown": [
       "**Not Delivered** Shipments by Carrier in Former Report: 150"
      ],
      "text/plain": [
       "<IPython.core.display.Markdown object>"
      ]
     },
     "metadata": {},
     "output_type": "display_data"
    },
    {
     "data": {
      "text/html": [
       "<div>\n",
       "<style scoped>\n",
       "    .dataframe tbody tr th:only-of-type {\n",
       "        vertical-align: middle;\n",
       "    }\n",
       "\n",
       "    .dataframe tbody tr th {\n",
       "        vertical-align: top;\n",
       "    }\n",
       "\n",
       "    .dataframe thead th {\n",
       "        text-align: right;\n",
       "    }\n",
       "</style>\n",
       "<table border=\"1\" class=\"dataframe\">\n",
       "  <thead>\n",
       "    <tr style=\"text-align: right;\">\n",
       "      <th>Status</th>\n",
       "      <th>Carrier</th>\n",
       "      <th>In Transit</th>\n",
       "      <th>Exception</th>\n",
       "      <th>Totals</th>\n",
       "    </tr>\n",
       "  </thead>\n",
       "  <tbody>\n",
       "    <tr>\n",
       "      <th>0</th>\n",
       "      <td>DHL</td>\n",
       "      <td>16</td>\n",
       "      <td>0</td>\n",
       "      <td>16</td>\n",
       "    </tr>\n",
       "    <tr>\n",
       "      <th>1</th>\n",
       "      <td>NACEX</td>\n",
       "      <td>2</td>\n",
       "      <td>1</td>\n",
       "      <td>3</td>\n",
       "    </tr>\n",
       "    <tr>\n",
       "      <th>2</th>\n",
       "      <td>SEUR</td>\n",
       "      <td>1</td>\n",
       "      <td>1</td>\n",
       "      <td>2</td>\n",
       "    </tr>\n",
       "    <tr>\n",
       "      <th>3</th>\n",
       "      <td>TNT</td>\n",
       "      <td>127</td>\n",
       "      <td>2</td>\n",
       "      <td>129</td>\n",
       "    </tr>\n",
       "  </tbody>\n",
       "</table>\n",
       "</div>"
      ],
      "text/plain": [
       "Status Carrier  In Transit  Exception  Totals\n",
       "0          DHL          16          0      16\n",
       "1        NACEX           2          1       3\n",
       "2         SEUR           1          1       2\n",
       "3          TNT         127          2     129"
      ]
     },
     "metadata": {},
     "output_type": "display_data"
    }
   ],
   "source": [
    "# Get data for all carriers != 'Delivered'\n",
    "shipments_not_delivered = shipments_not_delivered(excel_path)"
   ]
  },
  {
   "cell_type": "markdown",
   "id": "5076f347",
   "metadata": {},
   "source": [
    "### TNT"
   ]
  },
  {
   "cell_type": "code",
   "execution_count": 4,
   "id": "623ac779",
   "metadata": {},
   "outputs": [
    {
     "name": "stdout",
     "output_type": "stream",
     "text": [
      "Successfully retrieved all TNT shipments data in attempt 1.\n",
      " \n"
     ]
    },
    {
     "data": {
      "text/markdown": [
       "New report file saved at: Track Reports/TNT - Track Report 31-12-2023 11_45_07.xlsx"
      ],
      "text/plain": [
       "<IPython.core.display.Markdown object>"
      ]
     },
     "metadata": {},
     "output_type": "display_data"
    }
   ],
   "source": [
    "# TNT: API Requests\n",
    "from functions1_TNT_requests import make_tnt_requests\n",
    "tnt_results, len_shipm_numbers = make_tnt_requests(shipments_not_delivered)\n",
    "\n",
    "# TNT: Extract, process and create dataframe\n",
    "from functions2_TNT_dataframe import tnt_to_dataframe\n",
    "tnt_df = tnt_to_dataframe(tnt_results, shipments_not_delivered, len_shipm_numbers, report_path)\n",
    "# tnt_df"
   ]
  },
  {
   "cell_type": "code",
   "execution_count": 5,
   "id": "2d5c9c83",
   "metadata": {},
   "outputs": [],
   "source": [
    "# Linkable dataframe\n",
    "#tnt_df_linkable = convert_urls_to_links(tnt_df)"
   ]
  },
  {
   "cell_type": "markdown",
   "id": "4b138a19",
   "metadata": {},
   "source": [
    "### DHL"
   ]
  },
  {
   "cell_type": "code",
   "execution_count": 6,
   "id": "3152de67",
   "metadata": {},
   "outputs": [
    {
     "name": "stdout",
     "output_type": "stream",
     "text": [
      "Rate limited for URL https://api-eu.dhl.com/track/shipments?trackingNumber=3746403511,9951930472,3764738865. Retrying each shipment individually.\n",
      "Error 429 for https://api-eu.dhl.com/track/shipments?trackingNumber=9951930472: Too many requests within defined time period, please try again later.\n",
      "Missing DHL data in attempt 1.\n",
      "Missing DHL data in attempt 2.\n",
      "Missing DHL data in attempt 3.\n",
      "Attempt: 3 / 3\n",
      "Maximum attempts reached. Could not retrieve all DHL shipments data.\n",
      "\n",
      "Missing DHL data shipments URL: \n",
      "https://www.dhl.com/es-en/home/tracking/tracking-express.html?submit=1&tracking-id=9951930472\n",
      " \n"
     ]
    },
    {
     "data": {
      "text/markdown": [
       "New report file saved at: Track Reports/DHL - Track Report 31-12-2023 11_45_18.xlsx"
      ],
      "text/plain": [
       "<IPython.core.display.Markdown object>"
      ]
     },
     "metadata": {},
     "output_type": "display_data"
    }
   ],
   "source": [
    "# DHL: API Requests\n",
    "from functions1_DHL_requests import make_dhl_requests\n",
    "all_dhl_results, max_dhl_shipm = make_dhl_requests(shipments_not_delivered)\n",
    "\n",
    "# DHL: Extract, process and create dataframe\n",
    "from functions2_DHL_dataframe import dhl_to_dataframe\n",
    "dhl_df = dhl_to_dataframe(all_dhl_results, shipments_not_delivered, max_dhl_shipm, report_path)\n",
    "#dhl_df"
   ]
  },
  {
   "cell_type": "code",
   "execution_count": 7,
   "id": "e63e1d87",
   "metadata": {},
   "outputs": [],
   "source": [
    "# Linkable dataframe\n",
    "#dhl_df_linkable = convert_urls_to_links(dhl_df)"
   ]
  },
  {
   "cell_type": "markdown",
   "id": "aebcaf97",
   "metadata": {},
   "source": [
    "### General Report"
   ]
  },
  {
   "cell_type": "code",
   "execution_count": 8,
   "id": "50c6adb1",
   "metadata": {},
   "outputs": [
    {
     "name": "stdout",
     "output_type": "stream",
     "text": [
      "\n",
      "TNT\n",
      "\n",
      "Total TNT shipments in new report: 10\n",
      "\n",
      "- New TNT shipments included: 0\n",
      "\n",
      "- Former TNT shipments in new report: 10\n",
      "--> Delivered: +119\n",
      "--> In Transit:  -2\n",
      "--> Exception:  +2\n",
      "\n",
      "DHL\n",
      "\n",
      "Total DHL shipments in new report: 1\n",
      "\n",
      "- New DHL shipments included: 0\n",
      "\n",
      "- Former DHL shipments in new report: 1\n",
      "--> Delivered: +15\n",
      "--> In Transit:  -1\n",
      "--> Exception:  +0\n"
     ]
    }
   ],
   "source": [
    "from functions3_update_report import update_former_report\n",
    "updated_report = update_former_report(excel_path, tnt_df=tnt_df, dhl_df=dhl_df)\n",
    "#updated_report"
   ]
  },
  {
   "cell_type": "code",
   "execution_count": 9,
   "id": "bd70a131",
   "metadata": {},
   "outputs": [],
   "source": [
    "# Linkable dataframe\n",
    "#linkable_df = convert_urls_to_links(updated_report)"
   ]
  },
  {
   "cell_type": "code",
   "execution_count": null,
   "id": "a5163133",
   "metadata": {},
   "outputs": [],
   "source": []
  },
  {
   "cell_type": "markdown",
   "id": "7d8bde11",
   "metadata": {},
   "source": [
    "### Search and Display Shipments."
   ]
  },
  {
   "cell_type": "code",
   "execution_count": 11,
   "id": "30898cbf",
   "metadata": {},
   "outputs": [
    {
     "name": "stdout",
     "output_type": "stream",
     "text": [
      "Enter Shipment Numbers (comma-separated): 5734665823, 663806562\n"
     ]
    },
    {
     "data": {
      "text/html": [
       "<table border=\"1\" class=\"dataframe\">\n",
       "  <thead>\n",
       "    <tr style=\"text-align: right;\">\n",
       "      <th></th>\n",
       "      <th>LOGIS ID</th>\n",
       "      <th>Shipping Date</th>\n",
       "      <th>Reference 1</th>\n",
       "      <th>Reference 2</th>\n",
       "      <th>Reference 3</th>\n",
       "      <th>Service</th>\n",
       "      <th>Carrier</th>\n",
       "      <th>T&T reference</th>\n",
       "      <th>Destination name</th>\n",
       "      <th>Destination address</th>\n",
       "      <th>Postal code</th>\n",
       "      <th>CC</th>\n",
       "      <th>Status</th>\n",
       "      <th>Last Update</th>\n",
       "      <th>In Transit Days</th>\n",
       "      <th>Exception Notification</th>\n",
       "      <th>Comments logisteed</th>\n",
       "      <th>Signatory</th>\n",
       "      <th>Days since Last Update</th>\n",
       "      <th>Email Send Date</th>\n",
       "      <th>Shipment URL</th>\n",
       "      <th>POD URL</th>\n",
       "    </tr>\n",
       "  </thead>\n",
       "  <tbody>\n",
       "    <tr>\n",
       "      <th>817</th>\n",
       "      <td>DSD146154</td>\n",
       "      <td>07-12-2023</td>\n",
       "      <td>330281298:0830454951</td>\n",
       "      <td>L-000006890ER</td>\n",
       "      <td>7680020284</td>\n",
       "      <td>HSTD</td>\n",
       "      <td>DHL</td>\n",
       "      <td>5734665823</td>\n",
       "      <td>Coolair Services Ltd</td>\n",
       "      <td>Unit 5 Bredbury Industrial Park</td>\n",
       "      <td>SK6 2SN</td>\n",
       "      <td>GB</td>\n",
       "      <td>DELIVERED</td>\n",
       "      <td>14-12-2023</td>\n",
       "      <td>24</td>\n",
       "      <td></td>\n",
       "      <td>Delivered</td>\n",
       "      <td></td>\n",
       "      <td>17</td>\n",
       "      <td></td>\n",
       "      <td><a href=\"https://www.dhl.com/es-en/home/tracking/tracking-express.html?submit=1&tracking-id=5734665823\" target=\"_blank\">https://www.dhl.com/es-en/home/tracking/tracking-express.html?submit=1&tracking-id=5734665823</a></td>\n",
       "      <td></td>\n",
       "    </tr>\n",
       "    <tr>\n",
       "      <th>1096</th>\n",
       "      <td>DSD146898</td>\n",
       "      <td>07-12-2023</td>\n",
       "      <td>330283343:0830458827</td>\n",
       "      <td>WC 251463</td>\n",
       "      <td>7690048530</td>\n",
       "      <td>HNXD</td>\n",
       "      <td>TNT</td>\n",
       "      <td>663806562</td>\n",
       "      <td>MELIS MAURIZIO</td>\n",
       "      <td>VIA Stoccolma 4</td>\n",
       "      <td>09028</td>\n",
       "      <td>IT</td>\n",
       "      <td>EXCEPTION</td>\n",
       "      <td>18-12-2023</td>\n",
       "      <td>16</td>\n",
       "      <td>Exception Alert</td>\n",
       "      <td>Shipment partially delivered. Recovery actions underway</td>\n",
       "      <td></td>\n",
       "      <td>13</td>\n",
       "      <td></td>\n",
       "      <td><a href=\"https://www.tnt.com/express/en_gc/site/shipping-tools/track.html?searchType=con&cons=663806562\" target=\"_blank\">https://www.tnt.com/express/en_gc/site/shipping-tools/track.html?searchType=con&cons=663806562</a></td>\n",
       "      <td></td>\n",
       "    </tr>\n",
       "  </tbody>\n",
       "</table>"
      ],
      "text/plain": [
       "<IPython.core.display.HTML object>"
      ]
     },
     "metadata": {},
     "output_type": "display_data"
    }
   ],
   "source": [
    "from functions0_basics import search_and_display_shipments\n",
    "search_and_display_shipments(updated_report)\n",
    "# Ex: 5734665823, 663806562"
   ]
  },
  {
   "cell_type": "code",
   "execution_count": null,
   "id": "b2518f06",
   "metadata": {},
   "outputs": [],
   "source": []
  },
  {
   "cell_type": "code",
   "execution_count": null,
   "id": "bdc00185",
   "metadata": {},
   "outputs": [],
   "source": []
  }
 ],
 "metadata": {
  "kernelspec": {
   "display_name": "Python 3 (ipykernel)",
   "language": "python",
   "name": "python3"
  },
  "language_info": {
   "codemirror_mode": {
    "name": "ipython",
    "version": 3
   },
   "file_extension": ".py",
   "mimetype": "text/x-python",
   "name": "python",
   "nbconvert_exporter": "python",
   "pygments_lexer": "ipython3",
   "version": "3.9.13"
  }
 },
 "nbformat": 4,
 "nbformat_minor": 5
}
