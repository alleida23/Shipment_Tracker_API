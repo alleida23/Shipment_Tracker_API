{
 "cells": [
  {
   "cell_type": "markdown",
   "id": "5bee6d7c",
   "metadata": {},
   "source": [
    "# COOOOPY"
   ]
  },
  {
   "cell_type": "code",
   "execution_count": 1,
   "id": "6dfaddf2",
   "metadata": {
    "scrolled": true
   },
   "outputs": [],
   "source": [
    "import pandas as pd\n",
    "# Set display option to show all columns\n",
    "pd.set_option('display.max_columns', None)"
   ]
  },
  {
   "cell_type": "code",
   "execution_count": 2,
   "id": "57c75747",
   "metadata": {
    "scrolled": false
   },
   "outputs": [
    {
     "data": {
      "text/markdown": [
       "**150 shipments NOT DELIVERED in your file**"
      ],
      "text/plain": [
       "<IPython.core.display.Markdown object>"
      ]
     },
     "metadata": {},
     "output_type": "display_data"
    },
    {
     "data": {
      "text/html": [
       "<div>\n",
       "<style scoped>\n",
       "    .dataframe tbody tr th:only-of-type {\n",
       "        vertical-align: middle;\n",
       "    }\n",
       "\n",
       "    .dataframe tbody tr th {\n",
       "        vertical-align: top;\n",
       "    }\n",
       "\n",
       "    .dataframe thead th {\n",
       "        text-align: right;\n",
       "    }\n",
       "</style>\n",
       "<table border=\"1\" class=\"dataframe\">\n",
       "  <thead>\n",
       "    <tr style=\"text-align: right;\">\n",
       "      <th>Status</th>\n",
       "      <th>Carrier</th>\n",
       "      <th>In Transit</th>\n",
       "      <th>Exception</th>\n",
       "      <th>Totals</th>\n",
       "    </tr>\n",
       "  </thead>\n",
       "  <tbody>\n",
       "    <tr>\n",
       "      <th>0</th>\n",
       "      <td>DHL</td>\n",
       "      <td>16</td>\n",
       "      <td>0</td>\n",
       "      <td>16</td>\n",
       "    </tr>\n",
       "    <tr>\n",
       "      <th>1</th>\n",
       "      <td>NACEX</td>\n",
       "      <td>2</td>\n",
       "      <td>1</td>\n",
       "      <td>3</td>\n",
       "    </tr>\n",
       "    <tr>\n",
       "      <th>2</th>\n",
       "      <td>SEUR</td>\n",
       "      <td>1</td>\n",
       "      <td>1</td>\n",
       "      <td>2</td>\n",
       "    </tr>\n",
       "    <tr>\n",
       "      <th>3</th>\n",
       "      <td>TNT</td>\n",
       "      <td>127</td>\n",
       "      <td>2</td>\n",
       "      <td>129</td>\n",
       "    </tr>\n",
       "  </tbody>\n",
       "</table>\n",
       "</div>"
      ],
      "text/plain": [
       "Status Carrier  In Transit  Exception  Totals\n",
       "0          DHL          16          0      16\n",
       "1        NACEX           2          1       3\n",
       "2         SEUR           1          1       2\n",
       "3          TNT         127          2     129"
      ]
     },
     "metadata": {},
     "output_type": "display_data"
    },
    {
     "name": "stdout",
     "output_type": "stream",
     "text": [
      "Total TNT shipment numbers: 129\n",
      " \n"
     ]
    },
    {
     "data": {
      "text/markdown": [
       "New report file saved at: Track Reports/TNT - Track Report 17-12-2023 13_08_18.xlsx"
      ],
      "text/plain": [
       "<IPython.core.display.Markdown object>"
      ]
     },
     "metadata": {},
     "output_type": "display_data"
    }
   ],
   "source": [
    "from functions0_basics import get_files_path, shipments_not_delivered, get_API_details\n",
    "excel_path, report_path = get_files_path(\"Albert\")\n",
    "shipments_not_delivered = shipments_not_delivered(excel_path)\n",
    "\n",
    "from functions1_TNT_requests import make_tnt_requests\n",
    "tnt_results, len_shipm_numbers = make_tnt_requests(shipments_not_delivered)\n",
    "\n",
    "from functions2_TNT_dataframe import tnt_to_dataframe\n",
    "tnt_df = tnt_to_dataframe(tnt_results,len_shipm_numbers, report_path)\n",
    "#display(tnt_df.head(3), tnt_df.tail(3))"
   ]
  },
  {
   "cell_type": "code",
   "execution_count": 3,
   "id": "65eb7419",
   "metadata": {},
   "outputs": [],
   "source": [
    "#tnt_df.to_excel(\"./Track Reports/dhl_clean_report.xlsx\")"
   ]
  },
  {
   "cell_type": "code",
   "execution_count": 4,
   "id": "ad8a56e4",
   "metadata": {},
   "outputs": [
    {
     "data": {
      "text/markdown": [
       "--> Elapsed time scraping data: **108.65 seconds**"
      ],
      "text/plain": [
       "<IPython.core.display.Markdown object>"
      ]
     },
     "metadata": {},
     "output_type": "display_data"
    }
   ],
   "source": [
    "def batch_tnt_url(df):\n",
    "    \n",
    "    if 'Summary Code' in df.columns and 'Shipment Num.' in df.columns:\n",
    "        tnt_delivered = df[['Shipment Num.', 'Summary Code']][df['Summary Code'] == 'Delivered']\n",
    "    elif 'Shipment Num.' in df.columns:\n",
    "        tnt_delivered = df[['Shipment Num.']]\n",
    "    else:\n",
    "        raise ValueError(\"No suitable columns found in the DataFrame.\")\n",
    "\n",
    "    len_tnt_delivered = len(tnt_delivered)\n",
    "\n",
    "    max_scrap = 30\n",
    "    batch_shipm = [tnt_delivered['Shipment Num.'][i:i + max_scrap] for i in range(0, len(tnt_delivered), max_scrap)]\n",
    "\n",
    "    len_batch_shipm = len(batch_shipm)\n",
    "\n",
    "    # Create an empty list to store the URL\n",
    "    url_list = []\n",
    "\n",
    "    # Iterate through the list and construct the URL\n",
    "    for batch in batch_shipm:\n",
    "        url = f\"https://www.tnt.com/express/es_es/site/herramientas-envio/seguimiento.html?searchType=con&cons={','.join(map(str, batch))}\"\n",
    "        url_list.append(url)\n",
    "    \n",
    "    return url_list\n",
    "\n",
    "url_list = batch_tnt_url(tnt_df)\n",
    "\n",
    "def scrap_tnt_data(url_list):\n",
    "\n",
    "    from selenium import webdriver\n",
    "    from bs4 import BeautifulSoup\n",
    "    from IPython.display import Markdown, display\n",
    "    import time\n",
    "    \n",
    "    chromedriver_path = '/Users/albertlleidaestival/Projects/TNT-Shipment-Tracker/ChromeDriver/chromedriver-mac-arm64/chromedriver'\n",
    "    \n",
    "    # Empty list to store the divs retrieved\n",
    "    all_shipment_divs = []\n",
    "    \n",
    "    # Start the timer\n",
    "    start_time = time.time()\n",
    "\n",
    "    for url in url_list:\n",
    "        # Set up ChromeOptions for headless mode\n",
    "        chrome_options = webdriver.ChromeOptions()\n",
    "        chrome_options.add_argument('--headless')\n",
    "\n",
    "        # Set up ChromeDriver\n",
    "        chrome_service = webdriver.ChromeService(executable_path=chromedriver_path)\n",
    "        driver = webdriver.Chrome(service=chrome_service, options=chrome_options)\n",
    "\n",
    "        # Set up ChromeDriver - Bernat\n",
    "        #driver = webdriver.Chrome(executable_path=chromedriver_path, options=chrome_options)\n",
    "\n",
    "        \n",
    "        # Load the webpage\n",
    "        driver.get(url)\n",
    "        driver.implicitly_wait(8)\n",
    "\n",
    "        # Extract page source and parse with BeautifulSoup\n",
    "        page_source = driver.page_source\n",
    "        soup = BeautifulSoup(page_source, 'html.parser')\n",
    "\n",
    "        # Select shipment divs based on the HTML structure of the webpage\n",
    "        shipment_divs = soup.select('body > div.contentPageFullWidth.newBase.page.basicpage > div:nth-child(1) > div > pb-root > div > div > div > pb-track-trace > pb-search-results > div.__u-mb--xl')\n",
    "\n",
    "        # Extend the list of all shipment divs\n",
    "        all_shipment_divs.extend(shipment_divs)\n",
    "\n",
    "        # Close the browser window\n",
    "        driver.quit()\n",
    "    \n",
    "    # Stop the timer\n",
    "    end_time = time.time()\n",
    "\n",
    "    # Calculate and display the elapsed time\n",
    "    elapsed_time = end_time - start_time\n",
    "    display(Markdown(f\"--> Elapsed time scraping data: **{elapsed_time:.2f} seconds**\"))\n",
    "    \n",
    "    return all_shipment_divs\n",
    "\n",
    "all_shipment_divs = scrap_tnt_data(url_list)"
   ]
  },
  {
   "cell_type": "code",
   "execution_count": 5,
   "id": "be0719d6",
   "metadata": {},
   "outputs": [],
   "source": [
    "#all_shipment_divs"
   ]
  },
  {
   "cell_type": "code",
   "execution_count": 6,
   "id": "0a172615",
   "metadata": {},
   "outputs": [
    {
     "name": "stdout",
     "output_type": "stream",
     "text": [
      "No     99\n",
      "Yes    12\n",
      "Name: POD Available, dtype: int64\n"
     ]
    },
    {
     "data": {
      "text/html": [
       "<div>\n",
       "<style scoped>\n",
       "    .dataframe tbody tr th:only-of-type {\n",
       "        vertical-align: middle;\n",
       "    }\n",
       "\n",
       "    .dataframe tbody tr th {\n",
       "        vertical-align: top;\n",
       "    }\n",
       "\n",
       "    .dataframe thead th {\n",
       "        text-align: right;\n",
       "    }\n",
       "</style>\n",
       "<table border=\"1\" class=\"dataframe\">\n",
       "  <thead>\n",
       "    <tr style=\"text-align: right;\">\n",
       "      <th></th>\n",
       "      <th>Client Ref.</th>\n",
       "      <th>Shipment Num.</th>\n",
       "      <th>POD Available</th>\n",
       "    </tr>\n",
       "  </thead>\n",
       "  <tbody>\n",
       "    <tr>\n",
       "      <th>0</th>\n",
       "      <td>DSD/147076</td>\n",
       "      <td>663807364</td>\n",
       "      <td>No</td>\n",
       "    </tr>\n",
       "    <tr>\n",
       "      <th>1</th>\n",
       "      <td>DSD/147190</td>\n",
       "      <td>663807695</td>\n",
       "      <td>No</td>\n",
       "    </tr>\n",
       "    <tr>\n",
       "      <th>2</th>\n",
       "      <td>DSD/146512</td>\n",
       "      <td>663804853</td>\n",
       "      <td>Yes</td>\n",
       "    </tr>\n",
       "    <tr>\n",
       "      <th>3</th>\n",
       "      <td>DSD/147008</td>\n",
       "      <td>663807041</td>\n",
       "      <td>No</td>\n",
       "    </tr>\n",
       "    <tr>\n",
       "      <th>4</th>\n",
       "      <td>DSD/147266</td>\n",
       "      <td>663808064</td>\n",
       "      <td>No</td>\n",
       "    </tr>\n",
       "    <tr>\n",
       "      <th>...</th>\n",
       "      <td>...</td>\n",
       "      <td>...</td>\n",
       "      <td>...</td>\n",
       "    </tr>\n",
       "    <tr>\n",
       "      <th>106</th>\n",
       "      <td>DSD/147840</td>\n",
       "      <td>663810709</td>\n",
       "      <td>No</td>\n",
       "    </tr>\n",
       "    <tr>\n",
       "      <th>107</th>\n",
       "      <td>DSD/147906</td>\n",
       "      <td>663810981</td>\n",
       "      <td>No</td>\n",
       "    </tr>\n",
       "    <tr>\n",
       "      <th>108</th>\n",
       "      <td>DSD/147880</td>\n",
       "      <td>663810876</td>\n",
       "      <td>No</td>\n",
       "    </tr>\n",
       "    <tr>\n",
       "      <th>109</th>\n",
       "      <td>DSD/148050</td>\n",
       "      <td>663811695</td>\n",
       "      <td>No</td>\n",
       "    </tr>\n",
       "    <tr>\n",
       "      <th>110</th>\n",
       "      <td>DSD/148034</td>\n",
       "      <td>663811616</td>\n",
       "      <td>No</td>\n",
       "    </tr>\n",
       "  </tbody>\n",
       "</table>\n",
       "<p>111 rows × 3 columns</p>\n",
       "</div>"
      ],
      "text/plain": [
       "    Client Ref. Shipment Num. POD Available\n",
       "0    DSD/147076     663807364            No\n",
       "1    DSD/147190     663807695            No\n",
       "2    DSD/146512     663804853           Yes\n",
       "3    DSD/147008     663807041            No\n",
       "4    DSD/147266     663808064            No\n",
       "..          ...           ...           ...\n",
       "106  DSD/147840     663810709            No\n",
       "107  DSD/147906     663810981            No\n",
       "108  DSD/147880     663810876            No\n",
       "109  DSD/148050     663811695            No\n",
       "110  DSD/148034     663811616            No\n",
       "\n",
       "[111 rows x 3 columns]"
      ]
     },
     "execution_count": 6,
     "metadata": {},
     "output_type": "execute_result"
    }
   ],
   "source": [
    "def extract_tnt_data(all_shipment_divs):\n",
    "\n",
    "    import pandas as pd\n",
    "\n",
    "    all_results = []\n",
    "\n",
    "    # From all url structure stored in all_shipment_divs, consult each one\n",
    "    for shipment_divs in all_shipment_divs:\n",
    "        # From each url structure, consult each \"container\" (each shipment) present\n",
    "        for div in shipment_divs:\n",
    "            # Extract client reference for each shipment\n",
    "            client_reference_element = div.select_one('pb-shipment-reference div dl dd:nth-child(4)')\n",
    "            client_reference = client_reference_element.get_text(strip=True) if client_reference_element else None\n",
    "\n",
    "            if client_reference.startswith(\"DSD/\"):\n",
    "                # Extract shipment number for each shipment\n",
    "                shipment_number_element = div.select_one('pb-shipment-reference div dl dd:nth-child(2)')\n",
    "                shipment_number = shipment_number_element.get_text(strip=True) if shipment_number_element else None\n",
    "\n",
    "                # Check if either \"Prueba de entrega\" or \"Proof of delivery\" button is present\n",
    "                pod_button_elements = div.select('div.__c-shipment__actions button')\n",
    "                pod_available = \"Yes\" if any(\n",
    "                    \"Prueba de entrega\" in button.get_text(strip=True) or \"Proof of delivery\" in button.get_text(strip=True) for button in pod_button_elements) else \"No\"\n",
    "\n",
    "                # Append extracted data\n",
    "                all_results.append({\n",
    "                    \"Client Ref.\": client_reference,\n",
    "                    \"Shipment Num.\": shipment_number,\n",
    "                    \"POD Available\": pod_available\n",
    "                })\n",
    "            else:\n",
    "                pass\n",
    "\n",
    "    # Return the DataFrame\n",
    "    df = pd.DataFrame(all_results)\n",
    "    return df\n",
    "\n",
    "# Call the function with your data\n",
    "df = extract_tnt_data(all_shipment_divs)\n",
    "\n",
    "print(df['POD Available'].value_counts())\n",
    "df"
   ]
  },
  {
   "cell_type": "code",
   "execution_count": 8,
   "id": "2a82b3ef",
   "metadata": {},
   "outputs": [
    {
     "data": {
      "text/plain": [
       "['https://www.tnt.com/express/es_es/site/herramientas-envio/seguimiento.html?searchType=con&cons=663804853,663805125,663805920,663806001,663809192,663808736,663809042,663810068,663809572,663810403,663811050,663811341']"
      ]
     },
     "execution_count": 8,
     "metadata": {},
     "output_type": "execute_result"
    }
   ],
   "source": [
    "pod_avail = df[df['POD Available']=='Yes']\n",
    "pod_avail\n",
    "pod_df = batch_tnt_url (pod_avail)\n",
    "pod_df\n"
   ]
  },
  {
   "cell_type": "code",
   "execution_count": 27,
   "id": "227cfab5",
   "metadata": {},
   "outputs": [
    {
     "name": "stdout",
     "output_type": "stream",
     "text": [
      "Perform your actions and press Enter to close the browser...\n"
     ]
    }
   ],
   "source": [
    "from selenium import webdriver\n",
    "from selenium.webdriver.common.by import By\n",
    "from selenium.webdriver.chrome.service import Service as ChromeService\n",
    "from selenium.webdriver.support.ui import WebDriverWait\n",
    "from selenium.webdriver.support import expected_conditions as EC\n",
    "\n",
    "# Replace with the actual path to your ChromeDriver executable\n",
    "chromedriver_path = '/Users/albertlleidaestival/Projects/TNT-Shipment-Tracker/ChromeDriver/chromedriver-mac-arm64/chromedriver'\n",
    "\n",
    "url = \"https://www.tnt.com/express/en_gc/site/shipping-tools/track.html?searchType=con&cons=663804853\"\n",
    "\n",
    "# Set up ChromeDriver\n",
    "chrome_service = ChromeService(executable_path=chromedriver_path)\n",
    "driver = webdriver.Chrome(service=chrome_service)\n",
    "\n",
    "try:\n",
    "    # Open the URL in the browser\n",
    "    driver.get(url)\n",
    "\n",
    "    # Wait for the button to be clickable (adjust the timeout as needed)\n",
    "    button_locator = (By.CSS_SELECTOR, 'body > div.contentPageFullWidth.newBase.page.basicpage > div > div > pb-root > div > div > div > pb-track-trace > pb-search-results > div > pb-shipment > div > div.__c-shipment__footer > div.__c-shipment__actions.__c-btn-group.__u-mr--none--large.__u-ml--none--large > button:nth-child(2)')\n",
    "    button = WebDriverWait(driver, 10).until(EC.element_to_be_clickable(button_locator))\n",
    "\n",
    "    # Scroll into view before clicking\n",
    "    driver.execute_script(\"arguments[0].scrollIntoView();\", button)\n",
    "\n",
    "    # Click the button\n",
    "    button.click()\n",
    "\n",
    "    # Now you can proceed with further actions without closing the browser\n",
    "    # For example, you can wait for the new window to open and switch to it\n",
    "    # or perform other operations on the current page\n",
    "\n",
    "    # You can add more actions here as needed\n",
    "    \n",
    "    # For demonstration, let's keep the browser open for some time\n",
    "    input(\"Perform your actions and press Enter to close the browser...\")\n",
    "\n",
    "finally:\n",
    "    # Close the browser after performing all actions\n",
    "    driver.quit()\n"
   ]
  },
  {
   "cell_type": "code",
   "execution_count": 30,
   "id": "cc64c8bb",
   "metadata": {},
   "outputs": [
    {
     "name": "stdout",
     "output_type": "stream",
     "text": [
      "Perform your actions and press Enter to close the browser...\n"
     ]
    }
   ],
   "source": [
    "from selenium import webdriver\n",
    "from selenium.webdriver.common.by import By\n",
    "from selenium.webdriver.chrome.service import Service as ChromeService\n",
    "from selenium.webdriver.support.ui import WebDriverWait\n",
    "from selenium.webdriver.support import expected_conditions as EC\n",
    "from selenium.webdriver.common.keys import Keys\n",
    "\n",
    "# Replace with the actual path to your ChromeDriver executable\n",
    "chromedriver_path = '/Users/albertlleidaestival/Projects/TNT-Shipment-Tracker/ChromeDriver/chromedriver-mac-arm64/chromedriver'\n",
    "\n",
    "url = \"https://www.tnt.com/express/en_gc/site/shipping-tools/track.html?searchType=con&cons=663804853\"\n",
    "\n",
    "# Set up ChromeDriver\n",
    "chrome_service = ChromeService(executable_path=chromedriver_path)\n",
    "driver = webdriver.Chrome(service=chrome_service)\n",
    "\n",
    "try:\n",
    "    # Open the URL in the browser\n",
    "    driver.get(url)\n",
    "\n",
    "    # Wait for the button to be clickable (adjust the timeout as needed)\n",
    "    button_locator = (By.CSS_SELECTOR, 'body > div.contentPageFullWidth.newBase.page.basicpage > div > div > pb-root > div > div > div > pb-track-trace > pb-search-results > div > pb-shipment > div > div.__c-shipment__footer > div.__c-shipment__actions.__c-btn-group.__u-mr--none--large.__u-ml--none--large > button:nth-child(2)')\n",
    "    button = WebDriverWait(driver, 10).until(EC.element_to_be_clickable(button_locator))\n",
    "\n",
    "    # Scroll into view before clicking\n",
    "    driver.execute_script(\"arguments[0].scrollIntoView();\", button)\n",
    "\n",
    "    # Click the button to expand the dropdown\n",
    "    button.click()\n",
    "\n",
    "    # Select the \"accountNumber\" option from the dropdown\n",
    "    account_number_option_locator = (By.CSS_SELECTOR, 'body > div.contentPageFullWidth.newBase.page.basicpage > div > div > pb-root > div > div > tnt-modal:nth-child(5) > div > div.__c-modal__body.__c-modal__body--lightbox.__c-modal__body--with-title > form > div.__c-form-field.__c-form-field--select.__u-mb--xl > label > div > select > option:nth-child(2)')\n",
    "    account_number_option = WebDriverWait(driver, 10).until(EC.element_to_be_clickable(account_number_option_locator))\n",
    "    account_number_option.click()\n",
    "\n",
    "    # Now you can proceed with further actions without closing the browser\n",
    "    # For example, you can wait for the new window to open and switch to it\n",
    "    # or perform other operations on the current page\n",
    "\n",
    "    # You can add more actions here as needed\n",
    "    \n",
    "    # For demonstration, let's keep the browser open for some time\n",
    "    input(\"Perform your actions and press Enter to close the browser...\")\n",
    "\n",
    "finally:\n",
    "    # Close the browser after performing all actions\n",
    "    driver.quit()\n"
   ]
  },
  {
   "cell_type": "code",
   "execution_count": null,
   "id": "28c629a7",
   "metadata": {},
   "outputs": [],
   "source": [
    "# first empty cell (dropdown list) worked"
   ]
  },
  {
   "cell_type": "code",
   "execution_count": 32,
   "id": "f62b9242",
   "metadata": {},
   "outputs": [
    {
     "name": "stdout",
     "output_type": "stream",
     "text": [
      "Perform your actions and press Enter to close the browser...\n"
     ]
    }
   ],
   "source": [
    "from selenium import webdriver\n",
    "from selenium.webdriver.common.by import By\n",
    "from selenium.webdriver.chrome.service import Service as ChromeService\n",
    "from selenium.webdriver.support.ui import WebDriverWait\n",
    "from selenium.webdriver.support import expected_conditions as EC\n",
    "from selenium.webdriver.common.keys import Keys\n",
    "\n",
    "# Replace with the actual path to your ChromeDriver executable\n",
    "chromedriver_path = '/Users/albertlleidaestival/Projects/TNT-Shipment-Tracker/ChromeDriver/chromedriver-mac-arm64/chromedriver'\n",
    "\n",
    "url = \"https://www.tnt.com/express/en_gc/site/shipping-tools/track.html?searchType=con&cons=663804853\"\n",
    "\n",
    "tnt_account_num = \"002020190\"\n",
    "\n",
    "# Set up ChromeDriver\n",
    "chrome_service = ChromeService(executable_path=chromedriver_path)\n",
    "driver = webdriver.Chrome(service=chrome_service)\n",
    "\n",
    "try:\n",
    "    # Open the URL in the browser\n",
    "    driver.get(url)\n",
    "\n",
    "    # Wait for the button to be clickable (adjust the timeout as needed)\n",
    "    button_locator = (By.CSS_SELECTOR, 'body > div.contentPageFullWidth.newBase.page.basicpage > div > div > pb-root > div > div > div > pb-track-trace > pb-search-results > div > pb-shipment > div > div.__c-shipment__footer > div.__c-shipment__actions.__c-btn-group.__u-mr--none--large.__u-ml--none--large > button:nth-child(2)')\n",
    "    button = WebDriverWait(driver, 10).until(EC.element_to_be_clickable(button_locator))\n",
    "\n",
    "    # Scroll into view before clicking\n",
    "    driver.execute_script(\"arguments[0].scrollIntoView();\", button)\n",
    "\n",
    "    # Click the button to expand the dropdown\n",
    "    button.click()\n",
    "\n",
    "    # Select the \"accountNumber\" option from the dropdown\n",
    "    account_number_option_locator = (By.CSS_SELECTOR, 'body > div.contentPageFullWidth.newBase.page.basicpage > div > div > pb-root > div > div > tnt-modal:nth-child(5) > div > div.__c-modal__body.__c-modal__body--lightbox.__c-modal__body--with-title > form > div.__c-form-field.__c-form-field--select.__u-mb--xl > label > div > select > option:nth-child(2)')\n",
    "    account_number_option = WebDriverWait(driver, 10).until(EC.element_to_be_clickable(account_number_option_locator))\n",
    "    account_number_option.click()\n",
    "\n",
    "    # Locate the input field and fill it with the account number\n",
    "    input_field_locator = (By.CSS_SELECTOR, 'body > div.contentPageFullWidth.newBase.page.basicpage > div > div > pb-root > div > div > tnt-modal:nth-child(5) > div > div.__c-modal__body.__c-modal__body--lightbox.__c-modal__body--with-title > form > div.__c-form-field.__c-form-field--float-label.__u-mb--xl > label > input')\n",
    "    input_field = WebDriverWait(driver, 10).until(EC.element_to_be_clickable(input_field_locator))\n",
    "    input_field.send_keys(tnt_account_num)\n",
    "\n",
    "    # Click the \"Check answer\" button using JavaScript\n",
    "    check_button_locator = (By.CSS_SELECTOR, 'body > div.contentPageFullWidth.newBase.page.basicpage > div > div > pb-root > div > div > tnt-modal:nth-child(5) > div > div.__c-modal__body.__c-modal__body--lightbox.__c-modal__body--with-title > form > button.__c-btn.__u-mr--xl.__u-mb--m')\n",
    "    check_button = WebDriverWait(driver, 10).until(EC.presence_of_element_located(check_button_locator))\n",
    "    driver.execute_script(\"arguments[0].click();\", check_button)\n",
    "\n",
    "    # Now you can proceed with further actions without closing the browser\n",
    "    # For example, you can wait for the new window to open and switch to it\n",
    "    # or perform other operations on the current page\n",
    "\n",
    "    # You can add more actions here as needed\n",
    "    \n",
    "    # For demonstration, let's keep the browser open for some time\n",
    "    input(\"Perform your actions and press Enter to close the browser...\")\n",
    "\n",
    "finally:\n",
    "    # Close the browser after performing all actions\n",
    "    driver.quit()\n"
   ]
  },
  {
   "cell_type": "markdown",
   "id": "ccfcbc01",
   "metadata": {},
   "source": [
    "# Working version"
   ]
  },
  {
   "cell_type": "code",
   "execution_count": null,
   "id": "5a83457b",
   "metadata": {},
   "outputs": [
    {
     "name": "stdout",
     "output_type": "stream",
     "text": [
      "POD Document URL: https://track-shipments-mytnt2.apps.tnt.com/api/v3/shipments/documents?hash=hXkglVLFJeTpH6t63ue4bNsK74wP0tHiN3a62_27B_RuCkcqqZ_D-6CRow8e-2P6\n"
     ]
    }
   ],
   "source": [
    "from selenium import webdriver\n",
    "from selenium.webdriver.common.by import By\n",
    "from selenium.webdriver.chrome.service import Service as ChromeService\n",
    "from selenium.webdriver.support.ui import WebDriverWait\n",
    "from selenium.webdriver.support import expected_conditions as EC\n",
    "\n",
    "# Replace with the actual path to your ChromeDriver executable\n",
    "chromedriver_path = '/Users/albertlleidaestival/Projects/TNT-Shipment-Tracker/ChromeDriver/chromedriver-mac-arm64/chromedriver'\n",
    "\n",
    "url = \"https://www.tnt.com/express/en_gc/site/shipping-tools/track.html?searchType=con&cons=663804853\"\n",
    "tnt_account_num = \"002020190\"\n",
    "\n",
    "# Set up ChromeDriver\n",
    "chrome_service = ChromeService(executable_path=chromedriver_path)\n",
    "driver = webdriver.Chrome(service=chrome_service)\n",
    "\n",
    "try:\n",
    "    # Open the URL in the browser\n",
    "    driver.get(url)\n",
    "\n",
    "    # Wait for the button to be clickable (adjust the timeout as needed)\n",
    "    button_locator = (By.CSS_SELECTOR, 'body > div.contentPageFullWidth.newBase.page.basicpage > div > div > pb-root > div > div > div > pb-track-trace > pb-search-results > div > pb-shipment > div > div.__c-shipment__footer > div.__c-shipment__actions.__c-btn-group.__u-mr--none--large.__u-ml--none--large > button:nth-child(2)')\n",
    "    button = WebDriverWait(driver, 10).until(EC.element_to_be_clickable(button_locator))\n",
    "\n",
    "    # Scroll into view before clicking\n",
    "    driver.execute_script(\"arguments[0].scrollIntoView();\", button)\n",
    "\n",
    "    # Click the button to expand the dropdown\n",
    "    button.click()\n",
    "\n",
    "    # Select the \"accountNumber\" option from the dropdown\n",
    "    account_number_option_locator = (By.CSS_SELECTOR, 'body > div.contentPageFullWidth.newBase.page.basicpage > div > div > pb-root > div > div > tnt-modal:nth-child(5) > div > div.__c-modal__body.__c-modal__body--lightbox.__c-modal__body--with-title > form > div.__c-form-field.__c-form-field--select.__u-mb--xl > label > div > select > option:nth-child(2)')\n",
    "    account_number_option = WebDriverWait(driver, 10).until(EC.element_to_be_clickable(account_number_option_locator))\n",
    "    account_number_option.click()\n",
    "\n",
    "    # Locate the input field and fill it with the account number\n",
    "    input_field_locator = (By.CSS_SELECTOR, 'body > div.contentPageFullWidth.newBase.page.basicpage > div > div > pb-root > div > div > tnt-modal:nth-child(5) > div > div.__c-modal__body.__c-modal__body--lightbox.__c-modal__body--with-title > form > div.__c-form-field.__c-form-field--float-label.__u-mb--xl > label > input')\n",
    "    input_field = WebDriverWait(driver, 10).until(EC.element_to_be_clickable(input_field_locator))\n",
    "    input_field.send_keys(tnt_account_num)\n",
    "\n",
    "    # Click the \"Check answer\" button using JavaScript\n",
    "    check_button_locator = (By.CSS_SELECTOR, 'body > div.contentPageFullWidth.newBase.page.basicpage > div > div > pb-root > div > div > tnt-modal:nth-child(5) > div > div.__c-modal__body.__c-modal__body--lightbox.__c-modal__body--with-title > form > button.__c-btn.__u-mr--xl.__u-mb--m')\n",
    "    check_button = WebDriverWait(driver, 10).until(EC.presence_of_element_located(check_button_locator))\n",
    "    driver.execute_script(\"arguments[0].click();\", check_button)\n",
    "\n",
    "    # Wait for the pop-up to appear (adjust the timeout as needed)\n",
    "    popup_locator = (By.CSS_SELECTOR, 'body > div.contentPageFullWidth.newBase.page.basicpage > div > div > pb-root > div > div > tnt-modal:nth-child(5) > div > div.__c-modal__body.__c-modal__body--lightbox.__c-modal__body--with-title > div.__u-mt--xxxl > tnt-notify > div > div.__c-feedback__body > a')\n",
    "    popup_link = WebDriverWait(driver, 10).until(EC.element_to_be_clickable(popup_locator))\n",
    "\n",
    "    # Get the href attribute value\n",
    "    pod_doc_url = popup_link.get_attribute(\"href\")\n",
    "\n",
    "    # Print the URL for verification\n",
    "    print(\"POD Document URL:\", pod_doc_url)\n",
    "\n",
    "    # Now you can use the pod_doc_url variable as needed\n",
    "\n",
    "    # For demonstration, let's keep the browser open for some time\n",
    "    input(\"Perform your actions and press Enter to close the browser...\")\n",
    "\n",
    "finally:\n",
    "    # Close the browser after performing all actions\n",
    "    driver.quit()\n"
   ]
  },
  {
   "cell_type": "code",
   "execution_count": null,
   "id": "ddfc9cbc",
   "metadata": {},
   "outputs": [],
   "source": []
  },
  {
   "cell_type": "code",
   "execution_count": null,
   "id": "67d75dbb",
   "metadata": {},
   "outputs": [],
   "source": []
  },
  {
   "cell_type": "code",
   "execution_count": null,
   "id": "c675c491",
   "metadata": {},
   "outputs": [],
   "source": []
  },
  {
   "cell_type": "code",
   "execution_count": null,
   "id": "7f93e699",
   "metadata": {},
   "outputs": [],
   "source": []
  },
  {
   "cell_type": "code",
   "execution_count": null,
   "id": "c85f2f06",
   "metadata": {
    "scrolled": true
   },
   "outputs": [],
   "source": [
    "from functions1_DHL_requests import make_dhl_requests\n",
    "all_dhl_results, max_dhl_shipm = make_dhl_requests(shipments_not_delivered)"
   ]
  },
  {
   "cell_type": "code",
   "execution_count": null,
   "id": "bc1ba5a7",
   "metadata": {},
   "outputs": [],
   "source": [
    "from functions2_DHL_dataframe import dhl_to_dataframe\n",
    "dhl_df = dhl_to_dataframe(all_dhl_results, shipments_not_delivered, max_dhl_shipm, report_path)\n",
    "#dhl_df"
   ]
  },
  {
   "cell_type": "code",
   "execution_count": null,
   "id": "026faf4d",
   "metadata": {
    "scrolled": true
   },
   "outputs": [],
   "source": [
    "#dhl_df.to_excel(\"./Track Reports/dhl_clean_report.xlsx\")"
   ]
  },
  {
   "cell_type": "code",
   "execution_count": null,
   "id": "f7a69f9b",
   "metadata": {
    "scrolled": true
   },
   "outputs": [],
   "source": []
  },
  {
   "cell_type": "code",
   "execution_count": null,
   "id": "9a137321",
   "metadata": {},
   "outputs": [],
   "source": [
    "tnt_df"
   ]
  },
  {
   "cell_type": "code",
   "execution_count": null,
   "id": "2fe4f90e",
   "metadata": {},
   "outputs": [],
   "source": []
  }
 ],
 "metadata": {
  "kernelspec": {
   "display_name": "Python 3 (ipykernel)",
   "language": "python",
   "name": "python3"
  },
  "language_info": {
   "codemirror_mode": {
    "name": "ipython",
    "version": 3
   },
   "file_extension": ".py",
   "mimetype": "text/x-python",
   "name": "python",
   "nbconvert_exporter": "python",
   "pygments_lexer": "ipython3",
   "version": "3.9.13"
  }
 },
 "nbformat": 4,
 "nbformat_minor": 5
}
